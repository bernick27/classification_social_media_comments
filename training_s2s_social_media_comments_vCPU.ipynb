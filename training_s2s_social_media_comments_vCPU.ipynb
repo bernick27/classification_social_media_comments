{
  "nbformat": 4,
  "nbformat_minor": 0,
  "metadata": {
    "colab": {
      "name": "training_s2s_social_media_comments_vCPU.ipynb",
      "provenance": [],
      "collapsed_sections": [],
      "include_colab_link": true
    },
    "kernelspec": {
      "display_name": "Python 3",
      "name": "python3"
    },
    "accelerator": "GPU"
  },
  "cells": [
    {
      "cell_type": "markdown",
      "metadata": {
        "id": "view-in-github",
        "colab_type": "text"
      },
      "source": [
        "<a href=\"https://colab.research.google.com/github/bernick27/classification_social_media_comments/blob/main/training_s2s_social_media_comments_vCPU.ipynb\" target=\"_parent\"><img src=\"https://colab.research.google.com/assets/colab-badge.svg\" alt=\"Open In Colab\"/></a>"
      ]
    },
    {
      "cell_type": "markdown",
      "metadata": {
        "id": "S46DA1fAzQc_"
      },
      "source": [
        "# **Entrenamiento del modelo S2S con atención para clasificar comentarios de redes sociales sobre eventos educativos**"
      ]
    },
    {
      "cell_type": "markdown",
      "metadata": {
        "id": "nRWtKtmo51_h"
      },
      "source": [
        "## 1. Lectura y visualización del corpus"
      ]
    },
    {
      "cell_type": "markdown",
      "metadata": {
        "id": "GHqMA67chfLC"
      },
      "source": [
        "**Corpus: DESIGNACIONES Y CESES**"
      ]
    },
    {
      "cell_type": "code",
      "metadata": {
        "id": "7HeMKsBF55D6",
        "colab": {
          "base_uri": "https://localhost:8080/"
        },
        "outputId": "faac2deb-47e7-4d8e-8cbd-d01705b3b889"
      },
      "source": [
        "from google.colab import drive\n",
        "drive.mount('/gdrive', force_remount=True)"
      ],
      "execution_count": null,
      "outputs": [
        {
          "output_type": "stream",
          "text": [
            "Mounted at /gdrive\n"
          ],
          "name": "stdout"
        }
      ]
    },
    {
      "cell_type": "code",
      "metadata": {
        "id": "WSIWM48P6pGv"
      },
      "source": [
        "import pickle\n",
        "\n",
        "with open('/gdrive/My Drive/PEPS/TXT_DICT_ETIQUETADOS/corpus_17-06-2021', 'rb') as d:\n",
        "    txt_dict = pickle.load(d)\n",
        "\n",
        "query_data, slot_data, type_data, state_data = txt_dict['sentences'], txt_dict['slot_sequences'], txt_dict['types'], txt_dict['states']"
      ],
      "execution_count": null,
      "outputs": []
    },
    {
      "cell_type": "code",
      "metadata": {
        "id": "1pQov9aSgrmY",
        "colab": {
          "base_uri": "https://localhost:8080/",
          "height": 339
        },
        "outputId": "371be382-0a98-4ff3-ac5d-599b4853cfe5"
      },
      "source": [
        "import pandas as pd\n",
        "\n",
        "# Show some examples in table\n",
        "pd.set_option('display.max_colwidth', -1)\n",
        "df = pd.DataFrame({'query': query_data, 'slot': slot_data, 'type_': type_data, 'state': state_data})\n",
        "\n",
        "df_small = pd.DataFrame(columns=['query', 'slot', 'type_', 'state'])\n",
        "j = 0\n",
        "for i in df.type_.unique():\n",
        "  df_small.loc[j] = df[df.type_==i].iloc[0]\n",
        "  j = j+1\n",
        "  \n",
        "df_small"
      ],
      "execution_count": null,
      "outputs": [
        {
          "output_type": "stream",
          "text": [
            "/usr/local/lib/python3.7/dist-packages/ipykernel_launcher.py:4: FutureWarning: Passing a negative integer is deprecated in version 1.0 and will not be supported in future version. Instead, use None to not limit the column width.\n",
            "  after removing the cwd from sys.path.\n"
          ],
          "name": "stderr"
        },
        {
          "output_type": "execute_result",
          "data": {
            "text/html": [
              "<div>\n",
              "<style scoped>\n",
              "    .dataframe tbody tr th:only-of-type {\n",
              "        vertical-align: middle;\n",
              "    }\n",
              "\n",
              "    .dataframe tbody tr th {\n",
              "        vertical-align: top;\n",
              "    }\n",
              "\n",
              "    .dataframe thead th {\n",
              "        text-align: right;\n",
              "    }\n",
              "</style>\n",
              "<table border=\"1\" class=\"dataframe\">\n",
              "  <thead>\n",
              "    <tr style=\"text-align: right;\">\n",
              "      <th></th>\n",
              "      <th>query</th>\n",
              "      <th>slot</th>\n",
              "      <th>type_</th>\n",
              "      <th>state</th>\n",
              "    </tr>\n",
              "  </thead>\n",
              "  <tbody>\n",
              "    <tr>\n",
              "      <th>0</th>\n",
              "      <td>Nombrar Ministro de Estado en el Despacho del Ambiente al señor Manuel Gerardo Pedro Pulgar-Vidal Otálora</td>\n",
              "      <td>&lt;o&gt; B-&lt;cargo_pep&gt; I-&lt;cargo_pep&gt; I-&lt;cargo_pep&gt; &lt;o&gt; &lt;o&gt; B-&lt;entidad_pep&gt; I-&lt;entidad_pep&gt; I-&lt;entidad_pep&gt; &lt;o&gt; &lt;o&gt; B-&lt;nombre_pep&gt; I-&lt;nombre_pep&gt; I-&lt;nombre_pep&gt; B-&lt;apellido_pep&gt; I-&lt;apellido_pep&gt;</td>\n",
              "      <td>designacion</td>\n",
              "      <td>completo</td>\n",
              "    </tr>\n",
              "    <tr>\n",
              "      <th>1</th>\n",
              "      <td>Dar por concluida la encargatura del señor Mario César Augusto Condado Vega efectuada mediante Resolución Directoral N 216-2016-PCM/OGA de fecha 21 de noviembre de 2016 dándosele las gracias por los servicios prestados</td>\n",
              "      <td>&lt;o&gt; &lt;o&gt; &lt;o&gt; &lt;o&gt; &lt;o&gt; &lt;o&gt; &lt;o&gt; B-&lt;nombre_pep&gt; I-&lt;nombre_pep&gt; I-&lt;nombre_pep&gt; B-&lt;apellido_pep&gt; I-&lt;apellido_pep&gt; &lt;o&gt; &lt;o&gt; &lt;o&gt; &lt;o&gt; &lt;o&gt; &lt;o&gt; &lt;o&gt; &lt;o&gt; B-&lt;fecha&gt; I-&lt;fecha&gt; I-&lt;fecha&gt; I-&lt;fecha&gt; I-&lt;fecha&gt; &lt;o&gt; &lt;o&gt; &lt;o&gt; &lt;o&gt; &lt;o&gt; &lt;o&gt; &lt;o&gt;</td>\n",
              "      <td>cese</td>\n",
              "      <td>incompleto</td>\n",
              "    </tr>\n",
              "    <tr>\n",
              "      <th>2</th>\n",
              "      <td>Encargar a la Sub Gerencia de Gestión Humana de la Institución que notifique al señor José Carlos Purizaca Vega la presente resolución así como la carta que detalle las características que comprende la designación realizada</td>\n",
              "      <td>&lt;o&gt; &lt;o&gt; &lt;o&gt; &lt;o&gt; &lt;o&gt; &lt;o&gt; &lt;o&gt; &lt;o&gt; &lt;o&gt; &lt;o&gt; &lt;o&gt; &lt;o&gt; &lt;o&gt; &lt;o&gt; &lt;o&gt; B-&lt;nombre&gt; I-&lt;nombre&gt; B-&lt;apellido&gt; I-&lt;apellido&gt; &lt;o&gt; &lt;o&gt; &lt;o&gt; &lt;o&gt; &lt;o&gt; &lt;o&gt; &lt;o&gt; &lt;o&gt; &lt;o&gt; &lt;o&gt; &lt;o&gt; &lt;o&gt; &lt;o&gt; &lt;o&gt; &lt;o&gt; &lt;o&gt;</td>\n",
              "      <td>otro</td>\n",
              "      <td>completo</td>\n",
              "    </tr>\n",
              "  </tbody>\n",
              "</table>\n",
              "</div>"
            ],
            "text/plain": [
              "                                                                                                                                                                                                                             query  ...       state\n",
              "0  Nombrar Ministro de Estado en el Despacho del Ambiente al señor Manuel Gerardo Pedro Pulgar-Vidal Otálora                                                                                                                        ...  completo  \n",
              "1  Dar por concluida la encargatura del señor Mario César Augusto Condado Vega efectuada mediante Resolución Directoral N 216-2016-PCM/OGA de fecha 21 de noviembre de 2016 dándosele las gracias por los servicios prestados       ...  incompleto\n",
              "2  Encargar a la Sub Gerencia de Gestión Humana de la Institución que notifique al señor José Carlos Purizaca Vega la presente resolución así como la carta que detalle las características que comprende la designación realizada  ...  completo  \n",
              "\n",
              "[3 rows x 4 columns]"
            ]
          },
          "metadata": {
            "tags": []
          },
          "execution_count": 3
        }
      ]
    },
    {
      "cell_type": "code",
      "metadata": {
        "id": "PBnqCQoteYov"
      },
      "source": [
        "query_data_temp = query_data\n",
        "slot_data_temp = slot_data\n",
        "for i in range(len(query_data_temp)):\n",
        "  query_data[i] = 'BOS ' + query_data_temp[i] + ' EOS'\n",
        "  slot_data_temp[i] = '<o> ' + slot_data_temp[i] + ' <o>'"
      ],
      "execution_count": null,
      "outputs": []
    },
    {
      "cell_type": "code",
      "metadata": {
        "id": "CtWBmUeh8D7A",
        "colab": {
          "base_uri": "https://localhost:8080/"
        },
        "outputId": "ae8cf3a9-6c16-4bc3-9c7e-cefe919963db"
      },
      "source": [
        "import re\n",
        "\n",
        "# Obtención de las frecuencias\n",
        "vocab_word = {}\n",
        "for query in query_data:\n",
        "  for word in query.split():\n",
        "    key = word.lower()\n",
        "    vocab_word[key] = vocab_word.get(key, 0) + 1\n",
        "\n",
        "vocab_word = {k: v for k, v in sorted(vocab_word.items(), key=lambda item: item[1])}\n",
        "\n",
        "# Selección de las N palabras con mayor frecuencia\n",
        "cnt1, cnt2, cnt3 = 0, 0, 0\n",
        "for word, freq in vocab_word.items():\n",
        "  if freq == 1:\n",
        "    cnt1 += 1\n",
        "  elif freq == 2:\n",
        "    cnt2 += 1\n",
        "  elif freq == 3:\n",
        "    cnt3 += 1\n",
        "print('Número de palabras con frecuencia de 1: ', cnt1)\n",
        "print('Número de palabras con frecuencia de 2: ', cnt2)\n",
        "print('Número de palabras con frecuencia de 3: ', cnt3)\n",
        "N = int(0.02 * cnt1)\n",
        "words2replace = list(vocab_word.keys())[:N]\n",
        "for word in words2replace:\n",
        "  if re.match(r'.+[ar|er|ir]', word):\n",
        "    words2replace.remove(word)\n",
        "\n",
        "# Reemplazo en todas las oraciones\n",
        "pattern = r'\\b' + r'\\b|\\b'.join(words2replace) + r'\\b'\n",
        "for i, query in enumerate(query_data):\n",
        "  query_data[i] = re.sub(pattern, 'unk', query.lower())"
      ],
      "execution_count": null,
      "outputs": [
        {
          "output_type": "stream",
          "text": [
            "Número de palabras con frecuencia de 1:  2525\n",
            "Número de palabras con frecuencia de 2:  1061\n",
            "Número de palabras con frecuencia de 3:  450\n"
          ],
          "name": "stdout"
        }
      ]
    },
    {
      "cell_type": "markdown",
      "metadata": {
        "id": "rKXu-ROa5us7"
      },
      "source": [
        "## 2. Tokenización"
      ]
    },
    {
      "cell_type": "code",
      "metadata": {
        "id": "nNFfLwkv7S2v",
        "colab": {
          "base_uri": "https://localhost:8080/"
        },
        "outputId": "2ae8725e-b10f-44ac-ebef-d37f8c3b8423"
      },
      "source": [
        "from tensorflow.python.keras.preprocessing.text import Tokenizer\n",
        "\n",
        "# Tokenización\n",
        "word_tokenizer = Tokenizer(filters='\\n', oov_token='unk')\n",
        "word_tokenizer.fit_on_texts(query_data)\n",
        "\n",
        "w2i_dict = {}\n",
        "i2w_dict = {}\n",
        "for i in range(len(word_tokenizer.word_index)):\n",
        "  w2i_dict[word_tokenizer.index_word[i + 2]] = i + 1\n",
        "  i2w_dict[i + 1] = word_tokenizer.index_word[i + 2]\n",
        "\n",
        "word_tokenizer.word_index = w2i_dict\n",
        "word_tokenizer.index_word = i2w_dict\n",
        "word_index = word_tokenizer.word_index\n",
        "\n",
        "slot_tokenizer = Tokenizer(filters='\\n') #, oov_token='<o>')\n",
        "slot_tokenizer.fit_on_texts(slot_data)\n",
        "slot_index = slot_tokenizer.word_index\n",
        "\n",
        "type_tokenizer = Tokenizer(filters='\\n')\n",
        "type_tokenizer.fit_on_texts(type_data)\n",
        "type_index = type_tokenizer.word_index\n",
        "\n",
        "state_tokenizer = Tokenizer(filters='\\n')\n",
        "state_tokenizer.fit_on_texts(state_data)\n",
        "state_index = state_tokenizer.word_index\n",
        "\n",
        "'''# Modificación de la tokenización para adecuar al modelo\n",
        "w2i_dict = {}\n",
        "i2w_dict = {}\n",
        "s2i_dict = {}\n",
        "i2s_dict = {}\n",
        "t2i_dict = {}\n",
        "i2t_dict = {}\n",
        "st2i_dict = {}\n",
        "i2st_dict = {}\n",
        "\n",
        "for i in range(len(word_tokenizer.word_index)):\n",
        "  w2i_dict[word_tokenizer.index_word[i+2]] = i\n",
        "  i2w_dict[i] = word_tokenizer.index_word[i+2]\n",
        "\n",
        "word_tokenizer.word_index = w2i_dict\n",
        "word_tokenizer.index_word = i2w_dict\n",
        "word_index = word_tokenizer.word_index\n",
        "\n",
        "for i in range(len(slot_tokenizer.word_index)):\n",
        "  s2i_dict[slot_tokenizer.index_word[i+2]] = i\n",
        "  i2s_dict[i] = slot_tokenizer.index_word[i+2]\n",
        "\n",
        "slot_tokenizer.word_index = s2i_dict\n",
        "slot_tokenizer.index_word = i2s_dict\n",
        "slot_index = slot_tokenizer.word_index\n",
        "\n",
        "for i in range(len(type_tokenizer.word_index)):\n",
        "  t2i_dict[type_tokenizer.index_word[i+1]] = i\n",
        "  i2t_dict[i] = type_tokenizer.index_word[i+1]\n",
        "\n",
        "type_tokenizer.word_index = t2i_dict\n",
        "type_tokenizer.index_word = i2t_dict\n",
        "type_index = type_tokenizer.word_index\n",
        "\n",
        "for i in range(len(state_tokenizer.word_index)):\n",
        "  st2i_dict[state_tokenizer.index_word[i+1]] = i\n",
        "  i2st_dict[i] = state_tokenizer.index_word[i+1]\n",
        "\n",
        "state_tokenizer.word_index = st2i_dict\n",
        "state_tokenizer.index_word = i2st_dict\n",
        "state_index = state_tokenizer.word_index'''\n",
        "\n",
        "num_words = len(word_index)\n",
        "num_slots = len(slot_index)\n",
        "num_types = len(type_index)\n",
        "num_states = len(state_index)\n",
        "\n",
        "print('Tokenización completada!')\n",
        "print('Words: {:4d}'.format(num_words))\n",
        "print('Slots: {:4d}'.format(num_slots))\n",
        "print('Intents1: {:4d}'.format(num_types))\n",
        "print('Intents2: {:4d}'.format(num_states))"
      ],
      "execution_count": null,
      "outputs": [
        {
          "output_type": "stream",
          "text": [
            "Tokenización completada!\n",
            "Words: 6006\n",
            "Slots:   23\n",
            "Intents1:    3\n",
            "Intents2:    2\n"
          ],
          "name": "stdout"
        }
      ]
    },
    {
      "cell_type": "code",
      "metadata": {
        "id": "qAIwTheRJ1es",
        "colab": {
          "base_uri": "https://localhost:8080/"
        },
        "outputId": "381aec56-ed1a-4d41-e7a9-b9e86dad7db0"
      },
      "source": [
        "state_tokenizer.index_word"
      ],
      "execution_count": null,
      "outputs": [
        {
          "output_type": "execute_result",
          "data": {
            "text/plain": [
              "{1: 'completo', 2: 'incompleto'}"
            ]
          },
          "metadata": {
            "tags": []
          },
          "execution_count": 7
        }
      ]
    },
    {
      "cell_type": "code",
      "metadata": {
        "id": "S5RjDrPtae0G",
        "colab": {
          "base_uri": "https://localhost:8080/"
        },
        "outputId": "34349a35-e7e9-461c-e309-63076f2e3a2b"
      },
      "source": [
        "type_index"
      ],
      "execution_count": null,
      "outputs": [
        {
          "output_type": "execute_result",
          "data": {
            "text/plain": [
              "{'cese': 3, 'designacion': 2, 'otro': 1}"
            ]
          },
          "metadata": {
            "tags": []
          },
          "execution_count": 8
        }
      ]
    },
    {
      "cell_type": "code",
      "metadata": {
        "id": "mP0jbnPJasdS",
        "colab": {
          "base_uri": "https://localhost:8080/"
        },
        "outputId": "a02aa199-4c65-48e0-9fa9-952c3154f879"
      },
      "source": [
        "state_index"
      ],
      "execution_count": null,
      "outputs": [
        {
          "output_type": "execute_result",
          "data": {
            "text/plain": [
              "{'completo': 1, 'incompleto': 2}"
            ]
          },
          "metadata": {
            "tags": []
          },
          "execution_count": 9
        }
      ]
    },
    {
      "cell_type": "markdown",
      "metadata": {
        "id": "ifmW12-uGxca"
      },
      "source": [
        "## 3. Preparación de la data (generators)"
      ]
    },
    {
      "cell_type": "code",
      "metadata": {
        "id": "vbHVLFLFQx9G"
      },
      "source": [
        "query_data_DC = []; slot_data_DC = []; type_data_DC = []; state_data_DC = []\n",
        "query_data_CC = []; slot_data_CC = []; type_data_CC = []; state_data_CC = []\n",
        "query_data_OC = []; slot_data_OC = []; type_data_OC = []; state_data_OC = []\n",
        "query_data_DI = []; slot_data_DI = []; type_data_DI = []; state_data_DI = []\n",
        "query_data_CI = []; slot_data_CI = []; type_data_CI = []; state_data_CI = []\n",
        "query_data_OI = []; slot_data_OI = []; type_data_OI = []; state_data_OI = []\n",
        "\n",
        "for i in range(len(query_data)):\n",
        "  if type_data[i]=='designacion' and state_data[i]=='completo':\n",
        "    query_data_DC.append(query_data[i]); slot_data_DC.append(slot_data[i]); type_data_DC.append(type_data[i]); state_data_DC.append(state_data[i])\n",
        "  elif type_data[i]=='cese' and state_data[i]=='completo':\n",
        "    query_data_CC.append(query_data[i]); slot_data_CC.append(slot_data[i]); type_data_CC.append(type_data[i]); state_data_CC.append(state_data[i])\n",
        "  elif type_data[i]=='otro' and state_data[i]=='completo':\n",
        "    query_data_OC.append(query_data[i]); slot_data_OC.append(slot_data[i]); type_data_OC.append(type_data[i]); state_data_OC.append(state_data[i])\n",
        "  elif type_data[i]=='designacion' and state_data[i]=='incompleto':\n",
        "    query_data_DI.append(query_data[i]); slot_data_DI.append(slot_data[i]); type_data_DI.append(type_data[i]); state_data_DI.append(state_data[i])\n",
        "  elif type_data[i]=='cese' and state_data[i]=='incompleto':\n",
        "    query_data_CI.append(query_data[i]); slot_data_CI.append(slot_data[i]); type_data_CI.append(type_data[i]); state_data_CI.append(state_data[i])\n",
        "  else:\n",
        "    query_data_OI.append(query_data[i]); slot_data_OI.append(slot_data[i]); type_data_OI.append(type_data[i]); state_data_OI.append(state_data[i])"
      ],
      "execution_count": null,
      "outputs": []
    },
    {
      "cell_type": "code",
      "metadata": {
        "id": "SB0T7dm-Hoas"
      },
      "source": [
        "from random import shuffle\n",
        "from tensorflow.python.keras.preprocessing.sequence import pad_sequences\n",
        "\n",
        "'''\n",
        "# Obtención de las frecuencias de tipos y estados para equilibrar las clases\n",
        "num_t0 = type_tokenizer.word_counts['otro'] # Otro\n",
        "num_t1 = type_tokenizer.word_counts['designacion'] # Designación\n",
        "num_t2 = type_tokenizer.word_counts['cese'] # Cese\n",
        "num_st0 = state_tokenizer.word_counts['completo'] # Completo\n",
        "num_st1 = state_tokenizer.word_counts['incompleto'] # Incompleto\n",
        "'''\n",
        "\n",
        "def split_train_val_test(query_data, slot_data, type_data, state_data):\n",
        "\n",
        "  # Barajando los datos del corpus\n",
        "  num_samples = len(query_data)\n",
        "  group_data = list(zip(query_data, slot_data, type_data, state_data))\n",
        "  shuffle(group_data)\n",
        "  query_data, slot_data, type_data, state_data = zip(*group_data)\n",
        "\n",
        "  # Separación de los datos\n",
        "  train_len = round(0.9 * num_samples)\n",
        "  val_len = round(0.5 * (num_samples - train_len))\n",
        "  # Entrenamiento - Validación - Prueba\n",
        "  query_train_data, query_val_data, query_test_data = query_data[:train_len], query_data[train_len:(train_len + val_len)], query_data[(train_len + val_len):]\n",
        "  slot_train_data, slot_val_data, slot_test_data = slot_data[:train_len], slot_data[train_len:(train_len + val_len)], slot_data[(train_len + val_len):]\n",
        "  type_train_data, type_val_data, type_test_data = type_data[:train_len], type_data[train_len:(train_len + val_len)], type_data[(train_len + val_len):]\n",
        "  state_train_data, state_val_data, state_test_data = state_data[:train_len], state_data[train_len:(train_len + val_len)], state_data[(train_len + val_len):]\n",
        "\n",
        "  return query_train_data, query_val_data, query_test_data, slot_train_data, slot_val_data, slot_test_data, type_train_data, type_val_data, type_test_data, state_train_data, state_val_data, state_test_data\n",
        "\n",
        "query_data_DC_train, query_data_DC_val, query_data_DC_test, slot_data_DC_train, slot_data_DC_val, slot_data_DC_test, type_data_DC_train, type_data_DC_val, type_data_DC_test, state_data_DC_train, state_data_DC_val, state_data_DC_test = split_train_val_test(query_data_DC, slot_data_DC, type_data_DC, state_data_DC)\n",
        "query_data_CC_train, query_data_CC_val, query_data_CC_test, slot_data_CC_train, slot_data_CC_val, slot_data_CC_test, type_data_CC_train, type_data_CC_val, type_data_CC_test, state_data_CC_train, state_data_CC_val, state_data_CC_test = split_train_val_test(query_data_CC, slot_data_CC, type_data_CC, state_data_CC)\n",
        "query_data_OC_train, query_data_OC_val, query_data_OC_test, slot_data_OC_train, slot_data_OC_val, slot_data_OC_test, type_data_OC_train, type_data_OC_val, type_data_OC_test, state_data_OC_train, state_data_OC_val, state_data_OC_test = split_train_val_test(query_data_OC, slot_data_OC, type_data_OC, state_data_OC)\n",
        "query_data_DI_train, query_data_DI_val, query_data_DI_test, slot_data_DI_train, slot_data_DI_val, slot_data_DI_test, type_data_DI_train, type_data_DI_val, type_data_DI_test, state_data_DI_train, state_data_DI_val, state_data_DI_test = split_train_val_test(query_data_DI, slot_data_DI, type_data_DI, state_data_DI)\n",
        "query_data_CI_train, query_data_CI_val, query_data_CI_test, slot_data_CI_train, slot_data_CI_val, slot_data_CI_test, type_data_CI_train, type_data_CI_val, type_data_CI_test, state_data_CI_train, state_data_CI_val, state_data_CI_test = split_train_val_test(query_data_CI, slot_data_CI, type_data_CI, state_data_CI)\n",
        "query_data_OI_train, query_data_OI_val, query_data_OI_test, slot_data_OI_train, slot_data_OI_val, slot_data_OI_test, type_data_OI_train, type_data_OI_val, type_data_OI_test, state_data_OI_train, state_data_OI_val, state_data_OI_test = split_train_val_test(query_data_OI, slot_data_OI, type_data_OI, state_data_OI)\n",
        "\n",
        "query_train_data = query_data_DC_train + query_data_CC_train + query_data_OC_train + query_data_DI_train + query_data_CI_train + query_data_OI_train\n",
        "query_val_data = query_data_DC_val + query_data_CC_val + query_data_OC_val + query_data_DI_val + query_data_CI_val + query_data_OI_val\n",
        "query_test_data = query_data_DC_test + query_data_CC_test + query_data_OC_test + query_data_DI_test + query_data_CI_test + query_data_OI_test\n",
        "slot_train_data = slot_data_DC_train + slot_data_CC_train + slot_data_OC_train + slot_data_DI_train + slot_data_CI_train + slot_data_OI_train\n",
        "slot_val_data = slot_data_DC_val + slot_data_CC_val + slot_data_OC_val + slot_data_DI_val + slot_data_CI_val + slot_data_OI_val\n",
        "slot_test_data = slot_data_DC_test + slot_data_CC_test + slot_data_OC_test + slot_data_DI_test + slot_data_CI_test + slot_data_OI_test\n",
        "type_train_data = type_data_DC_train + type_data_CC_train + type_data_OC_train + type_data_DI_train + type_data_CI_train + type_data_OI_train\n",
        "type_val_data = type_data_DC_val + type_data_CC_val + type_data_OC_val + type_data_DI_val + type_data_CI_val + type_data_OI_val\n",
        "type_test_data = type_data_DC_test + type_data_CC_test + type_data_OC_test + type_data_DI_test + type_data_CI_test + type_data_OI_test\n",
        "state_train_data =  state_data_DC_train + state_data_CC_train + state_data_OC_train + state_data_DI_train + state_data_CI_train + state_data_OI_train\n",
        "state_val_data = state_data_DC_val + state_data_CC_val + state_data_OC_val + state_data_DI_val + state_data_CI_val + state_data_OI_val\n",
        "state_test_data = state_data_DC_test + state_data_CC_test + state_data_OC_test + state_data_DI_test + state_data_CI_test + state_data_OI_test"
      ],
      "execution_count": null,
      "outputs": []
    },
    {
      "cell_type": "code",
      "metadata": {
        "id": "5dqFy9TUe8zU",
        "colab": {
          "base_uri": "https://localhost:8080/"
        },
        "outputId": "93240973-2bb1-4c18-eb57-44efe4cede08"
      },
      "source": [
        "corpus = dict()\n",
        "corpus['query_t'] = query_train_data\n",
        "corpus['query_v'] = query_val_data\n",
        "corpus['query_te'] = query_test_data\n",
        "corpus['slot_t'] = slot_train_data\n",
        "corpus['slot_v'] = slot_val_data\n",
        "corpus['slot_te'] = slot_test_data\n",
        "corpus['type_t'] = type_train_data\n",
        "corpus['type_v'] = type_val_data\n",
        "corpus['type_te'] = type_test_data\n",
        "corpus['state_t'] = state_train_data\n",
        "corpus['state_v'] = state_val_data\n",
        "corpus['state_te'] = state_test_data\n",
        "\n",
        "with open('/gdrive/My Drive/PEPS/corpus_dc', 'wb') as c_dc:\n",
        "  pickle.dump(corpus, c_dc, protocol=pickle.HIGHEST_PROTOCOL)\n",
        "\n",
        "print('Number of training samples: %s' % len(query_train_data))\n",
        "print('Number of validation samples: %s' % len(query_val_data))\n",
        "print('Number of testing samples: %s' % len(query_test_data))"
      ],
      "execution_count": null,
      "outputs": [
        {
          "output_type": "stream",
          "text": [
            "Number of training samples: 3417\n",
            "Number of validation samples: 190\n",
            "Number of testing samples: 189\n"
          ],
          "name": "stdout"
        }
      ]
    },
    {
      "cell_type": "code",
      "metadata": {
        "id": "9zSExBKZTJiG"
      },
      "source": [
        "with open('/gdrive/My Drive/PEPS/word_tokenizer', 'wb') as w_tok:\n",
        "  pickle.dump(word_tokenizer, w_tok, protocol=pickle.HIGHEST_PROTOCOL)\n",
        "\n",
        "with open('/gdrive/My Drive/PEPS/slot_tokenizer', 'wb') as s_tok:\n",
        "  pickle.dump(slot_tokenizer, s_tok, protocol=pickle.HIGHEST_PROTOCOL)\n",
        "\n",
        "with open('/gdrive/My Drive/PEPS/type_tokenizer', 'wb') as t_tok:\n",
        "  pickle.dump(type_tokenizer, t_tok, protocol=pickle.HIGHEST_PROTOCOL)\n",
        "\n",
        "with open('/gdrive/My Drive/PEPS/state_tokenizer', 'wb') as st_tok:\n",
        "  pickle.dump(state_tokenizer, st_tok, protocol=pickle.HIGHEST_PROTOCOL)"
      ],
      "execution_count": null,
      "outputs": []
    },
    {
      "cell_type": "markdown",
      "metadata": {
        "id": "4Kho5XhpTJ0-"
      },
      "source": [
        "# Ejecutar para el entrenamiento desde aquí"
      ]
    },
    {
      "cell_type": "code",
      "metadata": {
        "id": "mw4phGPeVWD_",
        "colab": {
          "base_uri": "https://localhost:8080/"
        },
        "outputId": "ecd27abe-11c2-4264-ce5c-809aca962c31"
      },
      "source": [
        "from google.colab import drive\n",
        "drive.mount('/gdrive', force_remount=True)"
      ],
      "execution_count": null,
      "outputs": [
        {
          "output_type": "stream",
          "text": [
            "Mounted at /gdrive\n"
          ],
          "name": "stdout"
        }
      ]
    },
    {
      "cell_type": "code",
      "metadata": {
        "id": "4Pt2EvgLSyWT"
      },
      "source": [
        "import pickle\n",
        "\n",
        "with open('/gdrive/My Drive/PEPS/corpus_dc', 'rb') as d:\n",
        "    data_dict = pickle.load(d)\n",
        "    \n",
        "with open('/gdrive/My Drive/PEPS/word_tokenizer', 'rb') as w_tok:\n",
        "  word_tokenizer = pickle.load(w_tok)\n",
        "\n",
        "with open('/gdrive/My Drive/PEPS/slot_tokenizer', 'rb') as s_tok:\n",
        "  slot_tokenizer = pickle.load(s_tok)\n",
        "\n",
        "with open('/gdrive/My Drive/PEPS/type_tokenizer', 'rb') as t_tok:\n",
        "  type_tokenizer = pickle.load(t_tok)\n",
        "\n",
        "with open('/gdrive/My Drive/PEPS/state_tokenizer', 'rb') as st_tok:\n",
        "  state_tokenizer = pickle.load(st_tok)\n",
        "\n",
        "query_train_data = data_dict['query_t']\n",
        "query_val_data = data_dict['query_v']\n",
        "query_test_data = data_dict['query_te']\n",
        "slot_train_data = data_dict['slot_t']\n",
        "slot_val_data = data_dict['slot_v']\n",
        "slot_test_data = data_dict['slot_te']\n",
        "type_train_data = data_dict['type_t']\n",
        "type_val_data = data_dict['type_v']\n",
        "type_test_data = data_dict['type_te']\n",
        "state_train_data = data_dict['state_t']\n",
        "state_val_data = data_dict['state_v']\n",
        "state_test_data = data_dict['state_te']\n",
        "\n",
        "query_data = query_train_data + query_val_data + query_test_data\n",
        "slot_data = slot_train_data + slot_val_data + slot_test_data\n",
        "type_data = type_train_data + type_val_data + type_test_data\n",
        "state_data = state_train_data + state_val_data + state_test_data"
      ],
      "execution_count": null,
      "outputs": []
    },
    {
      "cell_type": "code",
      "metadata": {
        "id": "MDEZw-01RgN5"
      },
      "source": [
        "from tensorflow.python.keras.preprocessing.sequence import pad_sequences\n",
        "from tensorflow.python.keras.preprocessing.text import Tokenizer\n",
        "import pandas as pd\n",
        "\n",
        "word_index = word_tokenizer.word_index\n",
        "slot_index = slot_tokenizer.word_index\n",
        "type_index = type_tokenizer.word_index\n",
        "state_index = state_tokenizer.word_index\n",
        "\n",
        "num_words = len(word_index)\n",
        "num_slots = len(slot_index)\n",
        "num_types = len(type_index)\n",
        "num_states = len(state_index)\n",
        "\n",
        "max_seq_len = max([len(q) for q in word_tokenizer.texts_to_sequences(query_data)])\n",
        "query_train_seq = pad_sequences(word_tokenizer.texts_to_sequences(query_train_data), maxlen=max_seq_len)\n",
        "query_val_seq = pad_sequences(word_tokenizer.texts_to_sequences(query_val_data), maxlen=max_seq_len)\n",
        "# query_test_seq = pad_sequences(word_tokenizer.texts_to_sequences(query_test_data), maxlen=max_seq_len)\n",
        "slot_train_seq = pad_sequences(slot_tokenizer.texts_to_sequences(slot_train_data), maxlen=max_seq_len)\n",
        "slot_val_seq = pad_sequences(slot_tokenizer.texts_to_sequences(slot_val_data), maxlen=max_seq_len)\n",
        "# slot_test_seq = pad_sequences(slot_tokenizer.texts_to_sequences(slot_test_data), maxlen=max_seq_len)\n",
        "type_train_ind = type_tokenizer.texts_to_sequences(type_train_data)\n",
        "type_val_ind = type_tokenizer.texts_to_sequences(type_val_data)\n",
        "# type_test_ind = type_tokenizer.texts_to_sequences(type_test_data)\n",
        "state_train_ind = state_tokenizer.texts_to_sequences(state_train_data)\n",
        "state_val_ind = state_tokenizer.texts_to_sequences(state_val_data)\n",
        "# state_test_ind = state_tokenizer.texts_to_sequences(state_test_data)"
      ],
      "execution_count": null,
      "outputs": []
    },
    {
      "cell_type": "code",
      "metadata": {
        "id": "YeRpfTuLINAi",
        "colab": {
          "base_uri": "https://localhost:8080/"
        },
        "outputId": "de8141a4-46b7-49a0-ad78-55ec7922e821"
      },
      "source": [
        "print(query_val_data[0])\n",
        "print(query_val_seq[0])\n",
        "print(slot_val_data[0])\n",
        "print(slot_val_seq[0])"
      ],
      "execution_count": null,
      "outputs": [
        {
          "output_type": "stream",
          "text": [
            "bos designar al señor elvis stevens garcía torreblanca en el cargo de asesor i del despacho viceministerial de políticas agrarias del ministerio de agricultura y riego eos\n",
            "[   0    0    0    0    0    0    0    0    0    0    0    0    0    0\n",
            "    0    0    0    0    0    0    0    0    0    0    0    0    0    0\n",
            "    0    0    0    0    0    0    0    0    0    0    0    0    0    0\n",
            "    0    0    0    0    0    0    0    0    0    0    0    0    0    0\n",
            "    0    0    0    0    0    0    0    0    0    0    0    0    0    0\n",
            "    0    0    0    0    0    0    0    0    0    0    0    0    0    0\n",
            "    0    0    0    0    0    0    0    4   20   11   22 5476 5477  429\n",
            " 5478    7    6   13    1  161  459    3   18  267    1  293  721    3\n",
            "   27    1  143    8  124    5]\n",
            "<o> <o> <o> <o> B-<nombre_pep> I-<nombre_pep> B-<apellido_pep> I-<apellido_pep> <o> <o> <o> <o> B-<cargo_pep> I-<cargo_pep> I-<cargo_pep> I-<cargo_pep> I-<cargo_pep> I-<cargo_pep> I-<cargo_pep> I-<cargo_pep> <o> B-<entidad_pep> I-<entidad_pep> I-<entidad_pep> I-<entidad_pep> I-<entidad_pep> <o>\n",
            "[ 0  0  0  0  0  0  0  0  0  0  0  0  0  0  0  0  0  0  0  0  0  0  0  0\n",
            "  0  0  0  0  0  0  0  0  0  0  0  0  0  0  0  0  0  0  0  0  0  0  0  0\n",
            "  0  0  0  0  0  0  0  0  0  0  0  0  0  0  0  0  0  0  0  0  0  0  0  0\n",
            "  0  0  0  0  0  0  0  0  0  0  0  0  0  0  0  0  0  0  0  1  1  1  1  7\n",
            " 10  8  5  1  1  1  1  6  2  2  2  2  2  2  2  1 11  3  3  3  3  1]\n"
          ],
          "name": "stdout"
        }
      ]
    },
    {
      "cell_type": "code",
      "metadata": {
        "id": "Fqgxn2yTVt8j",
        "colab": {
          "base_uri": "https://localhost:8080/"
        },
        "outputId": "76b1e1fb-0b8a-458e-ee44-d7605ec8c277"
      },
      "source": [
        "print(slot_tokenizer.sequences_to_texts([slot_val_seq[0]]))"
      ],
      "execution_count": null,
      "outputs": [
        {
          "output_type": "stream",
          "text": [
            "['<o> <o> <o> <o> b-<nombre_pep> i-<nombre_pep> b-<apellido_pep> i-<apellido_pep> <o> <o> <o> <o> b-<cargo_pep> i-<cargo_pep> i-<cargo_pep> i-<cargo_pep> i-<cargo_pep> i-<cargo_pep> i-<cargo_pep> i-<cargo_pep> <o> b-<entidad_pep> i-<entidad_pep> i-<entidad_pep> i-<entidad_pep> i-<entidad_pep> <o>']\n"
          ],
          "name": "stdout"
        }
      ]
    },
    {
      "cell_type": "code",
      "metadata": {
        "id": "gdJzMvZveXVd"
      },
      "source": [
        "from tensorflow.python.keras.utils.data_utils import Sequence\n",
        "import numpy as np\n",
        "\n",
        "# Data Generator\n",
        "class DataGenerator(Sequence):\n",
        "  def __init__(self, seq_q, seq_s, types, states, batch_size, max_seq_len, shuffle):\n",
        "    self.seq_q = seq_q\n",
        "    self.seq_s = seq_s\n",
        "    self.types = types\n",
        "    self.states = states\n",
        "    self.batch_size = batch_size\n",
        "    self.max_seq_len = max_seq_len\n",
        "    self.shuffle = shuffle\n",
        "    self.on_epoch_end()\n",
        "  \n",
        "  def __len__(self):\n",
        "    return int(np.floor(len(self.seq_q) / self.batch_size))\n",
        "  \n",
        "  def __getitem__(self, index):\n",
        "    indexes = self.indexes[index*self.batch_size:(index + 1)*self.batch_size]\n",
        "    seq_q_temp = [self.seq_q[k] for k in indexes]\n",
        "    seq_s_temp = [self.seq_s[k] for k in indexes]\n",
        "    types_temp = [self.types[k] for k in indexes]\n",
        "    states_temp = [self.states[k] for k in indexes]\n",
        "    x, y = self.datageneration(seq_q_temp, seq_s_temp, types_temp, states_temp)\n",
        "    return x, y\n",
        "  \n",
        "  def on_epoch_end(self):\n",
        "    self.indexes = np.arange(len(self.seq_q))\n",
        "    if self.shuffle == True:\n",
        "      np.random.shuffle(self.indexes)\n",
        "\n",
        "  def datageneration(self, seq_q_temp, seq_s_temp, types_temp, states_temp):\n",
        "    xq = np.empty((self.batch_size, self.max_seq_len))\n",
        "    xs = np.empty((self.batch_size, self.max_seq_len))\n",
        "    ys = np.empty((self.batch_size, self.max_seq_len))\n",
        "    yt = np.empty((self.batch_size, 1))\n",
        "    yst = np.empty((self.batch_size, 1))\n",
        "    for i, seq in enumerate(seq_q_temp):\n",
        "      xq[i, ] = seq\n",
        "    for i, seq in enumerate(seq_s_temp):\n",
        "      xs[i, ] = seq\n",
        "      ys[i, ] = np.concatenate((seq[1:], [0]), axis=0)\n",
        "    for i, type_ in enumerate(types_temp):\n",
        "      yt[i, ] = type_\n",
        "    for i, state in enumerate(states_temp):\n",
        "      yst[i, ] = state\n",
        "    x = [xq, xs]\n",
        "    y = {'slot_output': ys, 'type_output':yt, 'state_output':yst}\n",
        "    return x, y\n",
        "  \n",
        "batch_size = 64\n",
        "params = {'batch_size': batch_size, 'max_seq_len': max_seq_len, 'shuffle': True}\n",
        "train_generator = DataGenerator(query_train_seq, slot_train_seq, type_train_ind, state_train_ind, **params)\n",
        "val_generator = DataGenerator(query_val_seq, slot_val_seq, type_val_ind, state_val_ind, **params)"
      ],
      "execution_count": null,
      "outputs": []
    },
    {
      "cell_type": "markdown",
      "metadata": {
        "id": "xfMSPh7suTNJ"
      },
      "source": [
        "## 4. Cálculo de los embedding"
      ]
    },
    {
      "cell_type": "code",
      "metadata": {
        "id": "LISO4YfBuehQ"
      },
      "source": [
        "from gensim.models import Word2Vec\n",
        "import multiprocessing\n",
        "\n",
        "# Preparación del corpus para el cálculo del embedding mediante Word2Vec\n",
        "query_corpus = []\n",
        "for query in query_data:\n",
        "  query_corpus.append(query.lower().split())\n",
        "\n",
        "slot_corpus = []\n",
        "for slot_seq in slot_data:\n",
        "  slot_corpus.append(slot_seq.lower().split())\n",
        "\n",
        "word_emb_dim = 128\n",
        "slot_emb_dim = 6\n",
        "emb_iter = 30\n",
        "\n",
        "# Embedding computation with Word2Vec\n",
        "w2v = Word2Vec(query_corpus, size=word_emb_dim, window=5, min_count=1, negative=15, iter=emb_iter, workers=multiprocessing.cpu_count())\n",
        "w_embedding = w2v.wv.vectors\n",
        "word_emb_mat = np.zeros((num_words + 1, word_emb_dim))\n",
        "for word, i in word_index.items():\n",
        "  word_emb_vec = w2v.wv[word]\n",
        "  if word_emb_vec is not None:\n",
        "    word_emb_mat[i] = word_emb_vec\n",
        "word_emb_mat[0] = w_embedding.mean(0)\n",
        "\n",
        "s2v = Word2Vec(slot_corpus, size=slot_emb_dim, window=5, min_count=1, negative=15, iter=emb_iter, workers=multiprocessing.cpu_count())\n",
        "s_embedding = s2v.wv.vectors\n",
        "slot_emb_mat = np.zeros((num_slots + 1, slot_emb_dim))\n",
        "for slot, i in slot_index.items():\n",
        "  slot_emb_vec = s2v.wv[slot]\n",
        "  if slot_emb_vec is not None:\n",
        "    slot_emb_mat[i] = slot_emb_vec\n",
        "slot_emb_mat[0] = s_embedding.mean(0)"
      ],
      "execution_count": null,
      "outputs": []
    },
    {
      "cell_type": "markdown",
      "metadata": {
        "id": "TTC5d1bCz5GK"
      },
      "source": [
        "## 5. Creación del modelo"
      ]
    },
    {
      "cell_type": "code",
      "metadata": {
        "id": "Wnw24gtt0nx7",
        "colab": {
          "base_uri": "https://localhost:8080/"
        },
        "outputId": "8711bdbe-838c-4037-b57d-8c8b154be7c8"
      },
      "source": [
        "from tensorflow.python.keras import backend as K\n",
        "import tensorflow as tf\n",
        "from tensorflow.python.keras.layers.embeddings import Embedding\n",
        "from tensorflow.python.keras.layers import Input, Dropout, Bidirectional, Dense, AdditiveAttention, LSTM\n",
        "from tensorflow.compat.v1.keras.layers import CuDNNLSTM\n",
        "from tensorflow.python.keras.models import Model\n",
        "\n",
        "K.set_learning_phase(1)\n",
        "\n",
        "def s2s_model(num_words, num_slots, num_types, num_states, word_emb_mat, slot_emb_mat, max_seq_len, latent_dim, do):\n",
        "  num_words = num_words + 1\n",
        "  num_slots = num_slots + 1\n",
        "  num_types = num_types + 1\n",
        "  num_states = num_states + 1\n",
        "  word_emb_dim = word_emb_mat.shape[1]\n",
        "  slot_emb_dim = slot_emb_mat.shape[1]\n",
        "  #---------\n",
        "  # ENCODER\n",
        "  #---------\n",
        "  # Input layer\n",
        "  enc_inp_w = Input(shape=(None,)) # (bs, t, 1)\n",
        "  # Embedding layer\n",
        "  w_emb_layer = Embedding(input_dim=num_words, output_dim=word_emb_dim, weights=[word_emb_mat], trainable=True, name='word_embedding')\n",
        "  enc_emb_w = w_emb_layer(enc_inp_w) # (bs, t, we_dim)\n",
        "  # Bidirectional LSTM layer\n",
        "  do_enc_emb_layer = Dropout(rate=do)\n",
        "  forward_LSTM_encoder = LSTM(latent_dim, return_state=True, return_sequences=True, name='forward_LSTM')\n",
        "  backward_LSTM_encoder = LSTM(latent_dim, return_state=True, return_sequences=True, go_backwards=True, name='backward_LSTM')\n",
        "  BiLSTM_encoder = Bidirectional(forward_LSTM_encoder, backward_layer=backward_LSTM_encoder, name='BiLSTM')\n",
        "  do_enc_out_layer = Dropout(rate=do)\n",
        "  do_enc_emb_w = do_enc_emb_layer(enc_emb_w, training=True) # (bs, t, we_dim)\n",
        "  enc_out, forward_h, forward_c, backward_h, backward_c = BiLSTM_encoder(do_enc_emb_w) # (bs, t, 2*ld), (bs, 1, ld)...\n",
        "  do_enc_out = do_enc_out_layer(enc_out, training=True) # (bs, t, 2*ld)\n",
        "  # Dense layer for states transfering\n",
        "  dense_s0 = Dense(latent_dim, activation='tanh', name='dense_s0_init')\n",
        "  dense_c0 = Dense(latent_dim, activation='tanh', name='dense_c0_init')\n",
        "  dec_s_init = dense_s0(backward_h) # (bs, 1, ld)\n",
        "  dec_c_init = dense_c0(backward_c) # (bs, 1, ld)\n",
        "  dec_states_init = [dec_s_init, dec_c_init]\n",
        "  #-----------\n",
        "  # ATTENTION\n",
        "  #-----------\n",
        "  # Attention layer for slot sequence decoder\n",
        "  dense_query_att_s = Dense(2*latent_dim, activation='linear', use_bias=False, name='dense_query_att_s')\n",
        "  dense_key_att_s = Dense(2*latent_dim, activation='linear', use_bias=False, name='dense_key_att_s')\n",
        "  attention_s = AdditiveAttention(name='Attention_s')\n",
        "  query_att_s = dense_query_att_s(dec_s_init) # (bs, 1, 2*ld)\n",
        "  key_att_s = dense_key_att_s(do_enc_out) # (bs, t, 2*ld)\n",
        "  c_attention_s = attention_s([tf.expand_dims(query_att_s, axis=1), do_enc_out, key_att_s]) # (bs, 1, 2*ld)\n",
        "  context_s = tf.repeat(c_attention_s, repeats=[max_seq_len], axis=1) # (bs, t, 2*ld)\n",
        "  # Attention layer for type decoder\n",
        "  dense_query_att_t = Dense(2*latent_dim, activation='linear', use_bias=False, name='dense_query_att_t')\n",
        "  dense_key_att_t = Dense(2*latent_dim, activation='linear', use_bias=False, name='dense_key_att_t')\n",
        "  attention_t = AdditiveAttention(name='Attention_t')\n",
        "  query_att_t = dense_query_att_t(dec_s_init) # (bs, 1, 2*ld)\n",
        "  key_att_t = dense_key_att_t(do_enc_out) # (bs, t, 2*ld)\n",
        "  context_t = attention_t([query_att_t, do_enc_out, key_att_t]) # (bs, 1, 2*ld)\n",
        "  # Attention layer for state decoder\n",
        "  dense_query_att_st = Dense(2*latent_dim, activation='linear', use_bias=False, name='dense_query_att_st')\n",
        "  dense_key_att_st = Dense(2*latent_dim, activation='linear', use_bias=False, name='dense_key_att_st')\n",
        "  attention_st = AdditiveAttention(name='Attention_st')\n",
        "  query_att_st = dense_query_att_st(dec_s_init) # (bs, 1, 2*ld)\n",
        "  key_att_st = dense_key_att_st(do_enc_out) # (bs, t, 2*ld)\n",
        "  context_st = attention_st([query_att_st, do_enc_out, key_att_st]) # (bs, 1, 2*ld)\n",
        "  #-----------------------\n",
        "  # SLOT SEQUENCE DECODER\n",
        "  #-----------------------\n",
        "  # Input layer\n",
        "  dec_s_inp_s = Input(shape=(None,))\n",
        "  # Embedding layer\n",
        "  s_emb_layer = Embedding(input_dim=num_slots, output_dim=slot_emb_dim, weights=[slot_emb_mat], trainable=True, name='slot_embedding')\n",
        "  dec_s_emb_s = s_emb_layer(dec_s_inp_s) # (bs, t, se_dim)\n",
        "  # LSTM layer\n",
        "  do_dec_s_emb_layer = Dropout(rate=do)\n",
        "  LSTM_slot_seq_decoder = LSTM(latent_dim, return_sequences=True, name='LSTM_slot_seq')\n",
        "  do_dec_s_out_layer = Dropout(rate=do)\n",
        "  dec_s_emb_sh = tf.concat([dec_s_emb_s, do_enc_out], axis=-1) # (bs, t, se_dim + 2*ld)\n",
        "  dec_s_emb_shc = tf.concat([dec_s_emb_sh, context_s], axis=-1) # (bs, t, se_dim + 2*ld + 2*ld)\n",
        "  do_dec_s_emb_shc = do_dec_s_emb_layer(dec_s_emb_shc, training=True) # (bs, t, se_dim + 2*ld + 2*ld)\n",
        "  dec_s_out = LSTM_slot_seq_decoder(do_dec_s_emb_shc, initial_state=dec_states_init) # (bs, t, ld)\n",
        "  do_dec_s_out = do_dec_s_out_layer(dec_s_out, training=True) # (bs, t, ld)\n",
        "  # Dense layer with softmax activation\n",
        "  slot_dense_out_layer = Dense(num_slots, activation='softmax', name='slot_output')\n",
        "  slot_seq_out = slot_dense_out_layer(do_dec_s_out)\n",
        "  #----------------\n",
        "  # TYPE DECODER\n",
        "  #----------------\n",
        "  # LSTM layer\n",
        "  do_dec_t_con_layer = Dropout(rate=do)\n",
        "  LSTM_type_decoder = LSTM(latent_dim, name='LSTM_type')\n",
        "  do_dec_t_out_layer = Dropout(rate=do)\n",
        "  do_dec_t_con = do_dec_t_con_layer(context_t, training=True) # (bs, t, 2*ld)\n",
        "  dec_t_out = LSTM_type_decoder(do_dec_t_con, initial_state=dec_states_init) # (bs, t, ld)\n",
        "  do_dec_t_out = do_dec_t_out_layer(dec_t_out, training=True) # (bs, t, ld)\n",
        "  # Dense layer with softmax activation\n",
        "  type_dense_out_layer = Dense(num_types, activation='softmax', name='type_output')\n",
        "  type_out = type_dense_out_layer(do_dec_t_out)\n",
        "  #----------------\n",
        "  # STATE DECODER\n",
        "  #----------------\n",
        "  # LSTM layer\n",
        "  do_dec_st_con_layer = Dropout(rate=do)\n",
        "  LSTM_state_decoder = LSTM(latent_dim, name='LSTM_state')\n",
        "  do_dec_st_out_layer = Dropout(rate=do)\n",
        "  do_dec_st_con = do_dec_st_con_layer(context_st, training=True) # (bs, t, 2*ld)\n",
        "  dec_st_out = LSTM_state_decoder(do_dec_st_con, initial_state=dec_states_init) # (bs, t, ld)\n",
        "  do_dec_st_out = do_dec_st_out_layer(dec_st_out, training=True) # (bs, t, ld)\n",
        "  # Dense layer with softmax activation\n",
        "  state_dense_out_layer = Dense(num_states, activation='softmax', name='state_output')\n",
        "  state_out = state_dense_out_layer(do_dec_st_out)\n",
        "\n",
        "  model = Model(inputs=[enc_inp_w, dec_s_inp_s], outputs=[slot_seq_out, type_out, state_out])\n",
        "\n",
        "  return model"
      ],
      "execution_count": null,
      "outputs": [
        {
          "output_type": "stream",
          "text": [
            "/usr/local/lib/python3.7/dist-packages/tensorflow/python/keras/backend.py:435: UserWarning: `tf.keras.backend.set_learning_phase` is deprecated and will be removed after 2020-10-11. To update it, simply pass a True/False value to the `training` argument of the `__call__` method of your layer or model.\n",
            "  warnings.warn('`tf.keras.backend.set_learning_phase` is deprecated and '\n"
          ],
          "name": "stderr"
        }
      ]
    },
    {
      "cell_type": "code",
      "metadata": {
        "id": "-oFBS4cm_CMR",
        "colab": {
          "base_uri": "https://localhost:8080/"
        },
        "outputId": "1cd5db60-09be-477b-88b5-c309f64e6df1"
      },
      "source": [
        "model = s2s_model(num_words, num_slots, num_types, num_states, word_emb_mat, slot_emb_mat, max_seq_len, 128, 0.5)\n",
        "model.summary()"
      ],
      "execution_count": null,
      "outputs": [
        {
          "output_type": "stream",
          "text": [
            "Model: \"model\"\n",
            "__________________________________________________________________________________________________\n",
            "Layer (type)                    Output Shape         Param #     Connected to                     \n",
            "==================================================================================================\n",
            "input_1 (InputLayer)            [(None, None)]       0                                            \n",
            "__________________________________________________________________________________________________\n",
            "word_embedding (Embedding)      (None, None, 128)    768896      input_1[0][0]                    \n",
            "__________________________________________________________________________________________________\n",
            "dropout (Dropout)               (None, None, 128)    0           word_embedding[0][0]             \n",
            "__________________________________________________________________________________________________\n",
            "BiLSTM (Bidirectional)          [(None, None, 256),  263168      dropout[0][0]                    \n",
            "__________________________________________________________________________________________________\n",
            "dense_s0_init (Dense)           (None, 128)          16512       BiLSTM[0][3]                     \n",
            "__________________________________________________________________________________________________\n",
            "dropout_1 (Dropout)             (None, None, 256)    0           BiLSTM[0][0]                     \n",
            "__________________________________________________________________________________________________\n",
            "dense_query_att_s (Dense)       (None, 256)          32768       dense_s0_init[0][0]              \n",
            "__________________________________________________________________________________________________\n",
            "input_2 (InputLayer)            [(None, None)]       0                                            \n",
            "__________________________________________________________________________________________________\n",
            "tf.expand_dims (TFOpLambda)     (None, 1, 256)       0           dense_query_att_s[0][0]          \n",
            "__________________________________________________________________________________________________\n",
            "dense_key_att_s (Dense)         (None, None, 256)    65536       dropout_1[0][0]                  \n",
            "__________________________________________________________________________________________________\n",
            "slot_embedding (Embedding)      (None, None, 6)      144         input_2[0][0]                    \n",
            "__________________________________________________________________________________________________\n",
            "Attention_s (AdditiveAttention) (None, 1, 256)       256         tf.expand_dims[0][0]             \n",
            "                                                                 dropout_1[0][0]                  \n",
            "                                                                 dense_key_att_s[0][0]            \n",
            "__________________________________________________________________________________________________\n",
            "tf.concat (TFOpLambda)          (None, None, 262)    0           slot_embedding[0][0]             \n",
            "                                                                 dropout_1[0][0]                  \n",
            "__________________________________________________________________________________________________\n",
            "tf.repeat (TFOpLambda)          (None, None, 256)    0           Attention_s[0][0]                \n",
            "__________________________________________________________________________________________________\n",
            "dense_query_att_t (Dense)       (None, 256)          32768       dense_s0_init[0][0]              \n",
            "__________________________________________________________________________________________________\n",
            "dense_key_att_t (Dense)         (None, None, 256)    65536       dropout_1[0][0]                  \n",
            "__________________________________________________________________________________________________\n",
            "dense_query_att_st (Dense)      (None, 256)          32768       dense_s0_init[0][0]              \n",
            "__________________________________________________________________________________________________\n",
            "dense_key_att_st (Dense)        (None, None, 256)    65536       dropout_1[0][0]                  \n",
            "__________________________________________________________________________________________________\n",
            "tf.concat_1 (TFOpLambda)        (None, None, 518)    0           tf.concat[0][0]                  \n",
            "                                                                 tf.repeat[0][0]                  \n",
            "__________________________________________________________________________________________________\n",
            "Attention_t (AdditiveAttention) (None, None, 256)    256         dense_query_att_t[0][0]          \n",
            "                                                                 dropout_1[0][0]                  \n",
            "                                                                 dense_key_att_t[0][0]            \n",
            "__________________________________________________________________________________________________\n",
            "Attention_st (AdditiveAttention (None, None, 256)    256         dense_query_att_st[0][0]         \n",
            "                                                                 dropout_1[0][0]                  \n",
            "                                                                 dense_key_att_st[0][0]           \n",
            "__________________________________________________________________________________________________\n",
            "dropout_2 (Dropout)             (None, None, 518)    0           tf.concat_1[0][0]                \n",
            "__________________________________________________________________________________________________\n",
            "dense_c0_init (Dense)           (None, 128)          16512       BiLSTM[0][4]                     \n",
            "__________________________________________________________________________________________________\n",
            "dropout_4 (Dropout)             (None, None, 256)    0           Attention_t[0][0]                \n",
            "__________________________________________________________________________________________________\n",
            "dropout_6 (Dropout)             (None, None, 256)    0           Attention_st[0][0]               \n",
            "__________________________________________________________________________________________________\n",
            "LSTM_slot_seq (LSTM)            (None, None, 128)    331264      dropout_2[0][0]                  \n",
            "                                                                 dense_s0_init[0][0]              \n",
            "                                                                 dense_c0_init[0][0]              \n",
            "__________________________________________________________________________________________________\n",
            "LSTM_type (LSTM)                (None, 128)          197120      dropout_4[0][0]                  \n",
            "                                                                 dense_s0_init[0][0]              \n",
            "                                                                 dense_c0_init[0][0]              \n",
            "__________________________________________________________________________________________________\n",
            "LSTM_state (LSTM)               (None, 128)          197120      dropout_6[0][0]                  \n",
            "                                                                 dense_s0_init[0][0]              \n",
            "                                                                 dense_c0_init[0][0]              \n",
            "__________________________________________________________________________________________________\n",
            "dropout_3 (Dropout)             (None, None, 128)    0           LSTM_slot_seq[0][0]              \n",
            "__________________________________________________________________________________________________\n",
            "dropout_5 (Dropout)             (None, 128)          0           LSTM_type[0][0]                  \n",
            "__________________________________________________________________________________________________\n",
            "dropout_7 (Dropout)             (None, 128)          0           LSTM_state[0][0]                 \n",
            "__________________________________________________________________________________________________\n",
            "slot_output (Dense)             (None, None, 24)     3096        dropout_3[0][0]                  \n",
            "__________________________________________________________________________________________________\n",
            "type_output (Dense)             (None, 4)            516         dropout_5[0][0]                  \n",
            "__________________________________________________________________________________________________\n",
            "state_output (Dense)            (None, 3)            387         dropout_7[0][0]                  \n",
            "==================================================================================================\n",
            "Total params: 2,090,415\n",
            "Trainable params: 2,090,415\n",
            "Non-trainable params: 0\n",
            "__________________________________________________________________________________________________\n"
          ],
          "name": "stdout"
        }
      ]
    },
    {
      "cell_type": "markdown",
      "metadata": {
        "id": "QxVLwKSuF6K7"
      },
      "source": [
        "## 6. Entrenamiento"
      ]
    },
    {
      "cell_type": "code",
      "metadata": {
        "id": "CjfdR-nA2GoN",
        "colab": {
          "base_uri": "https://localhost:8080/",
          "height": 54
        },
        "outputId": "ab8ed974-a1f2-4042-c268-ad0701a51f7a"
      },
      "source": [
        "# Calculando pesos para equilibrar las clases\n",
        "'''\n",
        "weight_t0 = (1 / num_t0)*(train_len)/2.0 \n",
        "weight_t1 = (1 / num_t1)*(train_len)/2.0\n",
        "weight_t2 = (1 / num_t2)*(train_len)/2.0\n",
        "\n",
        "weight_st0 = (1 / num_st0)*(train_len)/2.0 \n",
        "weight_st1 = (1 / num_st1)*(train_len)/2.0\n",
        "'''"
      ],
      "execution_count": null,
      "outputs": [
        {
          "output_type": "execute_result",
          "data": {
            "application/vnd.google.colaboratory.intrinsic+json": {
              "type": "string"
            },
            "text/plain": [
              "'\\nweight_t0 = (1 / num_t0)*(train_len)/2.0 \\nweight_t1 = (1 / num_t1)*(train_len)/2.0\\nweight_t2 = (1 / num_t2)*(train_len)/2.0\\n\\nweight_st0 = (1 / num_st0)*(train_len)/2.0 \\nweight_st1 = (1 / num_st1)*(train_len)/2.0\\n'"
            ]
          },
          "metadata": {
            "tags": []
          },
          "execution_count": 23
        }
      ]
    },
    {
      "cell_type": "code",
      "metadata": {
        "id": "S8gdnmgyGAH3",
        "colab": {
          "base_uri": "https://localhost:8080/"
        },
        "outputId": "63c25d14-bfb5-4a6a-93a5-e9ba34565e6e"
      },
      "source": [
        "from tensorflow.python.keras.optimizers import Optimizer\n",
        "\n",
        "epochs = 100\n",
        "losses = {\"slot_output\": \"sparse_categorical_crossentropy\", \"type_output\": \"sparse_categorical_crossentropy\", \"state_output\": \"sparse_categorical_crossentropy\"}\n",
        "lossWeights = {\"slot_output\": 1.0, \"type_output\": 0.25, \"state_output\": 0.25}\n",
        "# classWeights = {\"type_output\": {0: weight_t0, 1: weight_t1, 2:weight_t2}, \"state_output\": {0: weight_st0, 1: weight_st1}}\n",
        "adam_opt = tf.keras.optimizers.Adam(clipnorm=5)\n",
        "model.compile(loss=losses, loss_weights=lossWeights, optimizer=adam_opt, metrics=['sparse_categorical_accuracy'])\n",
        "history = model.fit(x=train_generator, epochs=epochs, verbose=1, validation_data=val_generator)#, class_weight=classWeights)"
      ],
      "execution_count": null,
      "outputs": [
        {
          "output_type": "stream",
          "text": [
            "Epoch 1/100\n",
            "53/53 [==============================] - 110s 2s/step - loss: 0.9778 - slot_output_loss: 0.7545 - type_output_loss: 0.5758 - state_output_loss: 0.3175 - slot_output_sparse_categorical_accuracy: 0.8260 - type_output_sparse_categorical_accuracy: 0.7553 - state_output_sparse_categorical_accuracy: 0.8909 - val_loss: 0.5039 - val_slot_output_loss: 0.3993 - val_type_output_loss: 0.1725 - val_state_output_loss: 0.2457 - val_slot_output_sparse_categorical_accuracy: 0.8840 - val_type_output_sparse_categorical_accuracy: 0.9453 - val_state_output_sparse_categorical_accuracy: 0.9375\n",
            "Epoch 2/100\n",
            "53/53 [==============================] - 98s 2s/step - loss: 0.4053 - slot_output_loss: 0.3240 - type_output_loss: 0.1330 - state_output_loss: 0.1923 - slot_output_sparse_categorical_accuracy: 0.9001 - type_output_sparse_categorical_accuracy: 0.9605 - state_output_sparse_categorical_accuracy: 0.9396 - val_loss: 0.3499 - val_slot_output_loss: 0.2742 - val_type_output_loss: 0.0965 - val_state_output_loss: 0.2061 - val_slot_output_sparse_categorical_accuracy: 0.9121 - val_type_output_sparse_categorical_accuracy: 0.9688 - val_state_output_sparse_categorical_accuracy: 0.9297\n",
            "Epoch 3/100\n",
            "53/53 [==============================] - 97s 2s/step - loss: 0.2924 - slot_output_loss: 0.2311 - type_output_loss: 0.0923 - state_output_loss: 0.1529 - slot_output_sparse_categorical_accuracy: 0.9256 - type_output_sparse_categorical_accuracy: 0.9735 - state_output_sparse_categorical_accuracy: 0.9475 - val_loss: 0.2349 - val_slot_output_loss: 0.1845 - val_type_output_loss: 0.0965 - val_state_output_loss: 0.1053 - val_slot_output_sparse_categorical_accuracy: 0.9401 - val_type_output_sparse_categorical_accuracy: 0.9766 - val_state_output_sparse_categorical_accuracy: 0.9688\n",
            "Epoch 4/100\n",
            "53/53 [==============================] - 97s 2s/step - loss: 0.2322 - slot_output_loss: 0.1775 - type_output_loss: 0.0758 - state_output_loss: 0.1430 - slot_output_sparse_categorical_accuracy: 0.9422 - type_output_sparse_categorical_accuracy: 0.9794 - state_output_sparse_categorical_accuracy: 0.9519 - val_loss: 0.2153 - val_slot_output_loss: 0.1672 - val_type_output_loss: 0.0966 - val_state_output_loss: 0.0957 - val_slot_output_sparse_categorical_accuracy: 0.9458 - val_type_output_sparse_categorical_accuracy: 0.9766 - val_state_output_sparse_categorical_accuracy: 0.9531\n",
            "Epoch 5/100\n",
            "53/53 [==============================] - 97s 2s/step - loss: 0.1973 - slot_output_loss: 0.1464 - type_output_loss: 0.0778 - state_output_loss: 0.1256 - slot_output_sparse_categorical_accuracy: 0.9526 - type_output_sparse_categorical_accuracy: 0.9800 - state_output_sparse_categorical_accuracy: 0.9543 - val_loss: 0.1897 - val_slot_output_loss: 0.1351 - val_type_output_loss: 0.0294 - val_state_output_loss: 0.1890 - val_slot_output_sparse_categorical_accuracy: 0.9571 - val_type_output_sparse_categorical_accuracy: 1.0000 - val_state_output_sparse_categorical_accuracy: 0.9453\n",
            "Epoch 6/100\n",
            "53/53 [==============================] - 97s 2s/step - loss: 0.1697 - slot_output_loss: 0.1248 - type_output_loss: 0.0677 - state_output_loss: 0.1122 - slot_output_sparse_categorical_accuracy: 0.9601 - type_output_sparse_categorical_accuracy: 0.9817 - state_output_sparse_categorical_accuracy: 0.9575 - val_loss: 0.1671 - val_slot_output_loss: 0.1232 - val_type_output_loss: 0.0645 - val_state_output_loss: 0.1113 - val_slot_output_sparse_categorical_accuracy: 0.9607 - val_type_output_sparse_categorical_accuracy: 0.9844 - val_state_output_sparse_categorical_accuracy: 0.9531\n",
            "Epoch 7/100\n",
            "53/53 [==============================] - 98s 2s/step - loss: 0.1474 - slot_output_loss: 0.1079 - type_output_loss: 0.0564 - state_output_loss: 0.1016 - slot_output_sparse_categorical_accuracy: 0.9657 - type_output_sparse_categorical_accuracy: 0.9853 - state_output_sparse_categorical_accuracy: 0.9631 - val_loss: 0.1420 - val_slot_output_loss: 0.0963 - val_type_output_loss: 0.0578 - val_state_output_loss: 0.1253 - val_slot_output_sparse_categorical_accuracy: 0.9687 - val_type_output_sparse_categorical_accuracy: 0.9844 - val_state_output_sparse_categorical_accuracy: 0.9453\n",
            "Epoch 8/100\n",
            "53/53 [==============================] - 98s 2s/step - loss: 0.1362 - slot_output_loss: 0.0967 - type_output_loss: 0.0624 - state_output_loss: 0.0957 - slot_output_sparse_categorical_accuracy: 0.9693 - type_output_sparse_categorical_accuracy: 0.9844 - state_output_sparse_categorical_accuracy: 0.9658 - val_loss: 0.1342 - val_slot_output_loss: 0.0904 - val_type_output_loss: 0.0538 - val_state_output_loss: 0.1215 - val_slot_output_sparse_categorical_accuracy: 0.9711 - val_type_output_sparse_categorical_accuracy: 0.9922 - val_state_output_sparse_categorical_accuracy: 0.9688\n",
            "Epoch 9/100\n",
            "53/53 [==============================] - 99s 2s/step - loss: 0.1234 - slot_output_loss: 0.0870 - type_output_loss: 0.0530 - state_output_loss: 0.0926 - slot_output_sparse_categorical_accuracy: 0.9727 - type_output_sparse_categorical_accuracy: 0.9870 - state_output_sparse_categorical_accuracy: 0.9670 - val_loss: 0.1326 - val_slot_output_loss: 0.0894 - val_type_output_loss: 0.0369 - val_state_output_loss: 0.1361 - val_slot_output_sparse_categorical_accuracy: 0.9723 - val_type_output_sparse_categorical_accuracy: 0.9844 - val_state_output_sparse_categorical_accuracy: 0.9688\n",
            "Epoch 10/100\n",
            "53/53 [==============================] - 97s 2s/step - loss: 0.1145 - slot_output_loss: 0.0802 - type_output_loss: 0.0516 - state_output_loss: 0.0857 - slot_output_sparse_categorical_accuracy: 0.9746 - type_output_sparse_categorical_accuracy: 0.9870 - state_output_sparse_categorical_accuracy: 0.9682 - val_loss: 0.1517 - val_slot_output_loss: 0.0832 - val_type_output_loss: 0.0750 - val_state_output_loss: 0.1990 - val_slot_output_sparse_categorical_accuracy: 0.9746 - val_type_output_sparse_categorical_accuracy: 0.9844 - val_state_output_sparse_categorical_accuracy: 0.9531\n",
            "Epoch 11/100\n",
            "53/53 [==============================] - 97s 2s/step - loss: 0.1058 - slot_output_loss: 0.0719 - type_output_loss: 0.0496 - state_output_loss: 0.0858 - slot_output_sparse_categorical_accuracy: 0.9772 - type_output_sparse_categorical_accuracy: 0.9870 - state_output_sparse_categorical_accuracy: 0.9693 - val_loss: 0.1454 - val_slot_output_loss: 0.0717 - val_type_output_loss: 0.1591 - val_state_output_loss: 0.1357 - val_slot_output_sparse_categorical_accuracy: 0.9780 - val_type_output_sparse_categorical_accuracy: 0.9609 - val_state_output_sparse_categorical_accuracy: 0.9531\n",
            "Epoch 12/100\n",
            "53/53 [==============================] - 97s 2s/step - loss: 0.0969 - slot_output_loss: 0.0665 - type_output_loss: 0.0485 - state_output_loss: 0.0732 - slot_output_sparse_categorical_accuracy: 0.9791 - type_output_sparse_categorical_accuracy: 0.9894 - state_output_sparse_categorical_accuracy: 0.9726 - val_loss: 0.1239 - val_slot_output_loss: 0.0746 - val_type_output_loss: 0.0827 - val_state_output_loss: 0.1146 - val_slot_output_sparse_categorical_accuracy: 0.9767 - val_type_output_sparse_categorical_accuracy: 0.9844 - val_state_output_sparse_categorical_accuracy: 0.9531\n",
            "Epoch 13/100\n",
            "53/53 [==============================] - 97s 2s/step - loss: 0.0930 - slot_output_loss: 0.0629 - type_output_loss: 0.0541 - state_output_loss: 0.0664 - slot_output_sparse_categorical_accuracy: 0.9804 - type_output_sparse_categorical_accuracy: 0.9850 - state_output_sparse_categorical_accuracy: 0.9776 - val_loss: 0.1333 - val_slot_output_loss: 0.0587 - val_type_output_loss: 0.1120 - val_state_output_loss: 0.1864 - val_slot_output_sparse_categorical_accuracy: 0.9815 - val_type_output_sparse_categorical_accuracy: 0.9844 - val_state_output_sparse_categorical_accuracy: 0.9688\n",
            "Epoch 14/100\n",
            "53/53 [==============================] - 97s 2s/step - loss: 0.0815 - slot_output_loss: 0.0583 - type_output_loss: 0.0386 - state_output_loss: 0.0541 - slot_output_sparse_categorical_accuracy: 0.9817 - type_output_sparse_categorical_accuracy: 0.9909 - state_output_sparse_categorical_accuracy: 0.9785 - val_loss: 0.1041 - val_slot_output_loss: 0.0634 - val_type_output_loss: 0.0525 - val_state_output_loss: 0.1105 - val_slot_output_sparse_categorical_accuracy: 0.9809 - val_type_output_sparse_categorical_accuracy: 0.9844 - val_state_output_sparse_categorical_accuracy: 0.9609\n",
            "Epoch 15/100\n",
            "53/53 [==============================] - 96s 2s/step - loss: 0.0803 - slot_output_loss: 0.0549 - type_output_loss: 0.0418 - state_output_loss: 0.0598 - slot_output_sparse_categorical_accuracy: 0.9831 - type_output_sparse_categorical_accuracy: 0.9903 - state_output_sparse_categorical_accuracy: 0.9785 - val_loss: 0.1032 - val_slot_output_loss: 0.0525 - val_type_output_loss: 0.0472 - val_state_output_loss: 0.1557 - val_slot_output_sparse_categorical_accuracy: 0.9840 - val_type_output_sparse_categorical_accuracy: 0.9844 - val_state_output_sparse_categorical_accuracy: 0.9531\n",
            "Epoch 16/100\n",
            "53/53 [==============================] - 97s 2s/step - loss: 0.0761 - slot_output_loss: 0.0512 - type_output_loss: 0.0393 - state_output_loss: 0.0606 - slot_output_sparse_categorical_accuracy: 0.9841 - type_output_sparse_categorical_accuracy: 0.9900 - state_output_sparse_categorical_accuracy: 0.9779 - val_loss: 0.0877 - val_slot_output_loss: 0.0492 - val_type_output_loss: 0.0367 - val_state_output_loss: 0.1175 - val_slot_output_sparse_categorical_accuracy: 0.9842 - val_type_output_sparse_categorical_accuracy: 0.9922 - val_state_output_sparse_categorical_accuracy: 0.9688\n",
            "Epoch 17/100\n",
            "53/53 [==============================] - 98s 2s/step - loss: 0.0807 - slot_output_loss: 0.0505 - type_output_loss: 0.0671 - state_output_loss: 0.0538 - slot_output_sparse_categorical_accuracy: 0.9845 - type_output_sparse_categorical_accuracy: 0.9788 - state_output_sparse_categorical_accuracy: 0.9794 - val_loss: 0.0869 - val_slot_output_loss: 0.0447 - val_type_output_loss: 0.0497 - val_state_output_loss: 0.1188 - val_slot_output_sparse_categorical_accuracy: 0.9869 - val_type_output_sparse_categorical_accuracy: 0.9766 - val_state_output_sparse_categorical_accuracy: 0.9688\n",
            "Epoch 18/100\n",
            "53/53 [==============================] - 98s 2s/step - loss: 0.0686 - slot_output_loss: 0.0473 - type_output_loss: 0.0403 - state_output_loss: 0.0449 - slot_output_sparse_categorical_accuracy: 0.9857 - type_output_sparse_categorical_accuracy: 0.9912 - state_output_sparse_categorical_accuracy: 0.9832 - val_loss: 0.0762 - val_slot_output_loss: 0.0451 - val_type_output_loss: 0.0263 - val_state_output_loss: 0.0982 - val_slot_output_sparse_categorical_accuracy: 0.9862 - val_type_output_sparse_categorical_accuracy: 0.9922 - val_state_output_sparse_categorical_accuracy: 0.9688\n",
            "Epoch 19/100\n",
            "53/53 [==============================] - 97s 2s/step - loss: 0.0669 - slot_output_loss: 0.0449 - type_output_loss: 0.0398 - state_output_loss: 0.0483 - slot_output_sparse_categorical_accuracy: 0.9864 - type_output_sparse_categorical_accuracy: 0.9894 - state_output_sparse_categorical_accuracy: 0.9797 - val_loss: 0.0851 - val_slot_output_loss: 0.0449 - val_type_output_loss: 0.0253 - val_state_output_loss: 0.1355 - val_slot_output_sparse_categorical_accuracy: 0.9859 - val_type_output_sparse_categorical_accuracy: 0.9922 - val_state_output_sparse_categorical_accuracy: 0.9531\n",
            "Epoch 20/100\n",
            "53/53 [==============================] - 98s 2s/step - loss: 0.0599 - slot_output_loss: 0.0421 - type_output_loss: 0.0311 - state_output_loss: 0.0403 - slot_output_sparse_categorical_accuracy: 0.9874 - type_output_sparse_categorical_accuracy: 0.9932 - state_output_sparse_categorical_accuracy: 0.9838 - val_loss: 0.1076 - val_slot_output_loss: 0.0502 - val_type_output_loss: 0.0684 - val_state_output_loss: 0.1611 - val_slot_output_sparse_categorical_accuracy: 0.9855 - val_type_output_sparse_categorical_accuracy: 0.9844 - val_state_output_sparse_categorical_accuracy: 0.9609\n",
            "Epoch 21/100\n",
            "53/53 [==============================] - 98s 2s/step - loss: 0.0586 - slot_output_loss: 0.0400 - type_output_loss: 0.0336 - state_output_loss: 0.0408 - slot_output_sparse_categorical_accuracy: 0.9879 - type_output_sparse_categorical_accuracy: 0.9917 - state_output_sparse_categorical_accuracy: 0.9841 - val_loss: 0.0748 - val_slot_output_loss: 0.0465 - val_type_output_loss: 0.0120 - val_state_output_loss: 0.1014 - val_slot_output_sparse_categorical_accuracy: 0.9856 - val_type_output_sparse_categorical_accuracy: 1.0000 - val_state_output_sparse_categorical_accuracy: 0.9688\n",
            "Epoch 22/100\n",
            "53/53 [==============================] - 98s 2s/step - loss: 0.0525 - slot_output_loss: 0.0385 - type_output_loss: 0.0279 - state_output_loss: 0.0284 - slot_output_sparse_categorical_accuracy: 0.9883 - type_output_sparse_categorical_accuracy: 0.9929 - state_output_sparse_categorical_accuracy: 0.9897 - val_loss: 0.0769 - val_slot_output_loss: 0.0386 - val_type_output_loss: 0.0546 - val_state_output_loss: 0.0986 - val_slot_output_sparse_categorical_accuracy: 0.9883 - val_type_output_sparse_categorical_accuracy: 0.9844 - val_state_output_sparse_categorical_accuracy: 0.9766\n",
            "Epoch 23/100\n",
            "53/53 [==============================] - 100s 2s/step - loss: 0.0552 - slot_output_loss: 0.0366 - type_output_loss: 0.0359 - state_output_loss: 0.0387 - slot_output_sparse_categorical_accuracy: 0.9890 - type_output_sparse_categorical_accuracy: 0.9915 - state_output_sparse_categorical_accuracy: 0.9864 - val_loss: 0.0994 - val_slot_output_loss: 0.0430 - val_type_output_loss: 0.0261 - val_state_output_loss: 0.1995 - val_slot_output_sparse_categorical_accuracy: 0.9875 - val_type_output_sparse_categorical_accuracy: 0.9922 - val_state_output_sparse_categorical_accuracy: 0.9531\n",
            "Epoch 24/100\n",
            "53/53 [==============================] - 100s 2s/step - loss: 0.0497 - slot_output_loss: 0.0356 - type_output_loss: 0.0279 - state_output_loss: 0.0283 - slot_output_sparse_categorical_accuracy: 0.9893 - type_output_sparse_categorical_accuracy: 0.9947 - state_output_sparse_categorical_accuracy: 0.9903 - val_loss: 0.0961 - val_slot_output_loss: 0.0450 - val_type_output_loss: 0.0860 - val_state_output_loss: 0.1182 - val_slot_output_sparse_categorical_accuracy: 0.9869 - val_type_output_sparse_categorical_accuracy: 0.9844 - val_state_output_sparse_categorical_accuracy: 0.9688\n",
            "Epoch 25/100\n",
            "53/53 [==============================] - 97s 2s/step - loss: 0.0498 - slot_output_loss: 0.0355 - type_output_loss: 0.0303 - state_output_loss: 0.0271 - slot_output_sparse_categorical_accuracy: 0.9893 - type_output_sparse_categorical_accuracy: 0.9929 - state_output_sparse_categorical_accuracy: 0.9897 - val_loss: 0.0905 - val_slot_output_loss: 0.0432 - val_type_output_loss: 0.0538 - val_state_output_loss: 0.1354 - val_slot_output_sparse_categorical_accuracy: 0.9874 - val_type_output_sparse_categorical_accuracy: 0.9844 - val_state_output_sparse_categorical_accuracy: 0.9375\n",
            "Epoch 26/100\n",
            "53/53 [==============================] - 98s 2s/step - loss: 0.0475 - slot_output_loss: 0.0332 - type_output_loss: 0.0330 - state_output_loss: 0.0242 - slot_output_sparse_categorical_accuracy: 0.9900 - type_output_sparse_categorical_accuracy: 0.9923 - state_output_sparse_categorical_accuracy: 0.9906 - val_loss: 0.0734 - val_slot_output_loss: 0.0361 - val_type_output_loss: 0.0639 - val_state_output_loss: 0.0850 - val_slot_output_sparse_categorical_accuracy: 0.9893 - val_type_output_sparse_categorical_accuracy: 0.9922 - val_state_output_sparse_categorical_accuracy: 0.9766\n",
            "Epoch 27/100\n",
            "53/53 [==============================] - 98s 2s/step - loss: 0.0445 - slot_output_loss: 0.0326 - type_output_loss: 0.0264 - state_output_loss: 0.0213 - slot_output_sparse_categorical_accuracy: 0.9903 - type_output_sparse_categorical_accuracy: 0.9938 - state_output_sparse_categorical_accuracy: 0.9912 - val_loss: 0.0976 - val_slot_output_loss: 0.0377 - val_type_output_loss: 0.0397 - val_state_output_loss: 0.2002 - val_slot_output_sparse_categorical_accuracy: 0.9891 - val_type_output_sparse_categorical_accuracy: 0.9922 - val_state_output_sparse_categorical_accuracy: 0.9531\n",
            "Epoch 28/100\n",
            "53/53 [==============================] - 99s 2s/step - loss: 0.0466 - slot_output_loss: 0.0315 - type_output_loss: 0.0360 - state_output_loss: 0.0246 - slot_output_sparse_categorical_accuracy: 0.9903 - type_output_sparse_categorical_accuracy: 0.9920 - state_output_sparse_categorical_accuracy: 0.9915 - val_loss: 0.0738 - val_slot_output_loss: 0.0321 - val_type_output_loss: 0.0688 - val_state_output_loss: 0.0982 - val_slot_output_sparse_categorical_accuracy: 0.9911 - val_type_output_sparse_categorical_accuracy: 0.9844 - val_state_output_sparse_categorical_accuracy: 0.9688\n",
            "Epoch 29/100\n",
            "53/53 [==============================] - 99s 2s/step - loss: 0.0424 - slot_output_loss: 0.0305 - type_output_loss: 0.0260 - state_output_loss: 0.0216 - slot_output_sparse_categorical_accuracy: 0.9908 - type_output_sparse_categorical_accuracy: 0.9947 - state_output_sparse_categorical_accuracy: 0.9903 - val_loss: 0.1049 - val_slot_output_loss: 0.0310 - val_type_output_loss: 0.1174 - val_state_output_loss: 0.1782 - val_slot_output_sparse_categorical_accuracy: 0.9909 - val_type_output_sparse_categorical_accuracy: 0.9844 - val_state_output_sparse_categorical_accuracy: 0.9609\n",
            "Epoch 30/100\n",
            "53/53 [==============================] - 98s 2s/step - loss: 0.0410 - slot_output_loss: 0.0295 - type_output_loss: 0.0209 - state_output_loss: 0.0251 - slot_output_sparse_categorical_accuracy: 0.9912 - type_output_sparse_categorical_accuracy: 0.9950 - state_output_sparse_categorical_accuracy: 0.9915 - val_loss: 0.0800 - val_slot_output_loss: 0.0312 - val_type_output_loss: 0.0912 - val_state_output_loss: 0.1041 - val_slot_output_sparse_categorical_accuracy: 0.9911 - val_type_output_sparse_categorical_accuracy: 0.9688 - val_state_output_sparse_categorical_accuracy: 0.9844\n",
            "Epoch 31/100\n",
            "53/53 [==============================] - 98s 2s/step - loss: 0.0392 - slot_output_loss: 0.0286 - type_output_loss: 0.0251 - state_output_loss: 0.0174 - slot_output_sparse_categorical_accuracy: 0.9915 - type_output_sparse_categorical_accuracy: 0.9935 - state_output_sparse_categorical_accuracy: 0.9941 - val_loss: 0.0860 - val_slot_output_loss: 0.0375 - val_type_output_loss: 0.0795 - val_state_output_loss: 0.1147 - val_slot_output_sparse_categorical_accuracy: 0.9902 - val_type_output_sparse_categorical_accuracy: 0.9688 - val_state_output_sparse_categorical_accuracy: 0.9766\n",
            "Epoch 32/100\n",
            "53/53 [==============================] - 99s 2s/step - loss: 0.0384 - slot_output_loss: 0.0273 - type_output_loss: 0.0245 - state_output_loss: 0.0199 - slot_output_sparse_categorical_accuracy: 0.9918 - type_output_sparse_categorical_accuracy: 0.9947 - state_output_sparse_categorical_accuracy: 0.9941 - val_loss: 0.0685 - val_slot_output_loss: 0.0296 - val_type_output_loss: 0.0039 - val_state_output_loss: 0.1519 - val_slot_output_sparse_categorical_accuracy: 0.9909 - val_type_output_sparse_categorical_accuracy: 1.0000 - val_state_output_sparse_categorical_accuracy: 0.9766\n",
            "Epoch 33/100\n",
            "53/53 [==============================] - 97s 2s/step - loss: 0.0383 - slot_output_loss: 0.0268 - type_output_loss: 0.0209 - state_output_loss: 0.0253 - slot_output_sparse_categorical_accuracy: 0.9920 - type_output_sparse_categorical_accuracy: 0.9950 - state_output_sparse_categorical_accuracy: 0.9906 - val_loss: 0.0688 - val_slot_output_loss: 0.0319 - val_type_output_loss: 0.0259 - val_state_output_loss: 0.1217 - val_slot_output_sparse_categorical_accuracy: 0.9900 - val_type_output_sparse_categorical_accuracy: 0.9922 - val_state_output_sparse_categorical_accuracy: 0.9609\n",
            "Epoch 34/100\n",
            "53/53 [==============================] - 99s 2s/step - loss: 0.0345 - slot_output_loss: 0.0261 - type_output_loss: 0.0197 - state_output_loss: 0.0139 - slot_output_sparse_categorical_accuracy: 0.9922 - type_output_sparse_categorical_accuracy: 0.9959 - state_output_sparse_categorical_accuracy: 0.9953 - val_loss: 0.1019 - val_slot_output_loss: 0.0300 - val_type_output_loss: 0.0877 - val_state_output_loss: 0.1998 - val_slot_output_sparse_categorical_accuracy: 0.9909 - val_type_output_sparse_categorical_accuracy: 0.9922 - val_state_output_sparse_categorical_accuracy: 0.9609\n",
            "Epoch 35/100\n",
            "53/53 [==============================] - 99s 2s/step - loss: 0.0352 - slot_output_loss: 0.0257 - type_output_loss: 0.0186 - state_output_loss: 0.0197 - slot_output_sparse_categorical_accuracy: 0.9922 - type_output_sparse_categorical_accuracy: 0.9950 - state_output_sparse_categorical_accuracy: 0.9923 - val_loss: 0.0820 - val_slot_output_loss: 0.0322 - val_type_output_loss: 0.1010 - val_state_output_loss: 0.0980 - val_slot_output_sparse_categorical_accuracy: 0.9906 - val_type_output_sparse_categorical_accuracy: 0.9844 - val_state_output_sparse_categorical_accuracy: 0.9766\n",
            "Epoch 36/100\n",
            "53/53 [==============================] - 99s 2s/step - loss: 0.0324 - slot_output_loss: 0.0249 - type_output_loss: 0.0180 - state_output_loss: 0.0120 - slot_output_sparse_categorical_accuracy: 0.9926 - type_output_sparse_categorical_accuracy: 0.9956 - state_output_sparse_categorical_accuracy: 0.9950 - val_loss: 0.0600 - val_slot_output_loss: 0.0263 - val_type_output_loss: 0.0454 - val_state_output_loss: 0.0895 - val_slot_output_sparse_categorical_accuracy: 0.9922 - val_type_output_sparse_categorical_accuracy: 0.9844 - val_state_output_sparse_categorical_accuracy: 0.9922\n",
            "Epoch 37/100\n",
            "53/53 [==============================] - 99s 2s/step - loss: 0.0372 - slot_output_loss: 0.0238 - type_output_loss: 0.0379 - state_output_loss: 0.0158 - slot_output_sparse_categorical_accuracy: 0.9930 - type_output_sparse_categorical_accuracy: 0.9915 - state_output_sparse_categorical_accuracy: 0.9944 - val_loss: 0.0969 - val_slot_output_loss: 0.0288 - val_type_output_loss: 0.1114 - val_state_output_loss: 0.1610 - val_slot_output_sparse_categorical_accuracy: 0.9916 - val_type_output_sparse_categorical_accuracy: 0.9844 - val_state_output_sparse_categorical_accuracy: 0.9766\n",
            "Epoch 38/100\n",
            "53/53 [==============================] - 98s 2s/step - loss: 0.0388 - slot_output_loss: 0.0256 - type_output_loss: 0.0388 - state_output_loss: 0.0137 - slot_output_sparse_categorical_accuracy: 0.9922 - type_output_sparse_categorical_accuracy: 0.9903 - state_output_sparse_categorical_accuracy: 0.9956 - val_loss: 0.0715 - val_slot_output_loss: 0.0281 - val_type_output_loss: 0.0367 - val_state_output_loss: 0.1366 - val_slot_output_sparse_categorical_accuracy: 0.9912 - val_type_output_sparse_categorical_accuracy: 0.9922 - val_state_output_sparse_categorical_accuracy: 0.9688\n",
            "Epoch 39/100\n",
            "53/53 [==============================] - 98s 2s/step - loss: 0.0347 - slot_output_loss: 0.0242 - type_output_loss: 0.0245 - state_output_loss: 0.0173 - slot_output_sparse_categorical_accuracy: 0.9928 - type_output_sparse_categorical_accuracy: 0.9941 - state_output_sparse_categorical_accuracy: 0.9953 - val_loss: 0.0706 - val_slot_output_loss: 0.0275 - val_type_output_loss: 0.0902 - val_state_output_loss: 0.0822 - val_slot_output_sparse_categorical_accuracy: 0.9926 - val_type_output_sparse_categorical_accuracy: 0.9766 - val_state_output_sparse_categorical_accuracy: 0.9766\n",
            "Epoch 40/100\n",
            "53/53 [==============================] - 99s 2s/step - loss: 0.0318 - slot_output_loss: 0.0234 - type_output_loss: 0.0156 - state_output_loss: 0.0179 - slot_output_sparse_categorical_accuracy: 0.9929 - type_output_sparse_categorical_accuracy: 0.9976 - state_output_sparse_categorical_accuracy: 0.9932 - val_loss: 0.1036 - val_slot_output_loss: 0.0282 - val_type_output_loss: 0.0717 - val_state_output_loss: 0.2296 - val_slot_output_sparse_categorical_accuracy: 0.9925 - val_type_output_sparse_categorical_accuracy: 0.9844 - val_state_output_sparse_categorical_accuracy: 0.9609\n",
            "Epoch 41/100\n",
            "53/53 [==============================] - 98s 2s/step - loss: 0.0298 - slot_output_loss: 0.0228 - type_output_loss: 0.0144 - state_output_loss: 0.0135 - slot_output_sparse_categorical_accuracy: 0.9932 - type_output_sparse_categorical_accuracy: 0.9968 - state_output_sparse_categorical_accuracy: 0.9968 - val_loss: 0.1105 - val_slot_output_loss: 0.0299 - val_type_output_loss: 0.0613 - val_state_output_loss: 0.2610 - val_slot_output_sparse_categorical_accuracy: 0.9915 - val_type_output_sparse_categorical_accuracy: 0.9922 - val_state_output_sparse_categorical_accuracy: 0.9531\n",
            "Epoch 42/100\n",
            "53/53 [==============================] - 99s 2s/step - loss: 0.0318 - slot_output_loss: 0.0221 - type_output_loss: 0.0202 - state_output_loss: 0.0186 - slot_output_sparse_categorical_accuracy: 0.9935 - type_output_sparse_categorical_accuracy: 0.9959 - state_output_sparse_categorical_accuracy: 0.9923 - val_loss: 0.0654 - val_slot_output_loss: 0.0258 - val_type_output_loss: 0.0326 - val_state_output_loss: 0.1259 - val_slot_output_sparse_categorical_accuracy: 0.9929 - val_type_output_sparse_categorical_accuracy: 0.9922 - val_state_output_sparse_categorical_accuracy: 0.9688\n",
            "Epoch 43/100\n",
            "53/53 [==============================] - 99s 2s/step - loss: 0.0281 - slot_output_loss: 0.0216 - type_output_loss: 0.0142 - state_output_loss: 0.0118 - slot_output_sparse_categorical_accuracy: 0.9936 - type_output_sparse_categorical_accuracy: 0.9959 - state_output_sparse_categorical_accuracy: 0.9956 - val_loss: 0.0560 - val_slot_output_loss: 0.0241 - val_type_output_loss: 0.0487 - val_state_output_loss: 0.0789 - val_slot_output_sparse_categorical_accuracy: 0.9930 - val_type_output_sparse_categorical_accuracy: 0.9922 - val_state_output_sparse_categorical_accuracy: 0.9766\n",
            "Epoch 44/100\n",
            "53/53 [==============================] - 100s 2s/step - loss: 0.0284 - slot_output_loss: 0.0208 - type_output_loss: 0.0199 - state_output_loss: 0.0106 - slot_output_sparse_categorical_accuracy: 0.9939 - type_output_sparse_categorical_accuracy: 0.9947 - state_output_sparse_categorical_accuracy: 0.9962 - val_loss: 0.0424 - val_slot_output_loss: 0.0243 - val_type_output_loss: 0.0379 - val_state_output_loss: 0.0345 - val_slot_output_sparse_categorical_accuracy: 0.9923 - val_type_output_sparse_categorical_accuracy: 0.9922 - val_state_output_sparse_categorical_accuracy: 0.9922\n",
            "Epoch 45/100\n",
            "53/53 [==============================] - 99s 2s/step - loss: 0.0273 - slot_output_loss: 0.0209 - type_output_loss: 0.0133 - state_output_loss: 0.0126 - slot_output_sparse_categorical_accuracy: 0.9940 - type_output_sparse_categorical_accuracy: 0.9971 - state_output_sparse_categorical_accuracy: 0.9956 - val_loss: 0.0692 - val_slot_output_loss: 0.0246 - val_type_output_loss: 0.0207 - val_state_output_loss: 0.1574 - val_slot_output_sparse_categorical_accuracy: 0.9931 - val_type_output_sparse_categorical_accuracy: 0.9922 - val_state_output_sparse_categorical_accuracy: 0.9844\n",
            "Epoch 46/100\n",
            "53/53 [==============================] - 99s 2s/step - loss: 0.0247 - slot_output_loss: 0.0198 - type_output_loss: 0.0104 - state_output_loss: 0.0092 - slot_output_sparse_categorical_accuracy: 0.9943 - type_output_sparse_categorical_accuracy: 0.9979 - state_output_sparse_categorical_accuracy: 0.9962 - val_loss: 0.1295 - val_slot_output_loss: 0.0185 - val_type_output_loss: 0.0669 - val_state_output_loss: 0.3771 - val_slot_output_sparse_categorical_accuracy: 0.9940 - val_type_output_sparse_categorical_accuracy: 0.9922 - val_state_output_sparse_categorical_accuracy: 0.9609\n",
            "Epoch 47/100\n",
            "53/53 [==============================] - 99s 2s/step - loss: 0.0264 - slot_output_loss: 0.0195 - type_output_loss: 0.0123 - state_output_loss: 0.0153 - slot_output_sparse_categorical_accuracy: 0.9941 - type_output_sparse_categorical_accuracy: 0.9956 - state_output_sparse_categorical_accuracy: 0.9941 - val_loss: 0.0655 - val_slot_output_loss: 0.0280 - val_type_output_loss: 0.0959 - val_state_output_loss: 0.0541 - val_slot_output_sparse_categorical_accuracy: 0.9912 - val_type_output_sparse_categorical_accuracy: 0.9844 - val_state_output_sparse_categorical_accuracy: 0.9766\n",
            "Epoch 48/100\n",
            "53/53 [==============================] - 99s 2s/step - loss: 0.0250 - slot_output_loss: 0.0192 - type_output_loss: 0.0131 - state_output_loss: 0.0099 - slot_output_sparse_categorical_accuracy: 0.9944 - type_output_sparse_categorical_accuracy: 0.9956 - state_output_sparse_categorical_accuracy: 0.9962 - val_loss: 0.0526 - val_slot_output_loss: 0.0235 - val_type_output_loss: 0.0505 - val_state_output_loss: 0.0661 - val_slot_output_sparse_categorical_accuracy: 0.9925 - val_type_output_sparse_categorical_accuracy: 0.9922 - val_state_output_sparse_categorical_accuracy: 0.9922\n",
            "Epoch 49/100\n",
            "53/53 [==============================] - 99s 2s/step - loss: 0.0290 - slot_output_loss: 0.0192 - type_output_loss: 0.0262 - state_output_loss: 0.0128 - slot_output_sparse_categorical_accuracy: 0.9945 - type_output_sparse_categorical_accuracy: 0.9926 - state_output_sparse_categorical_accuracy: 0.9962 - val_loss: 0.0926 - val_slot_output_loss: 0.0266 - val_type_output_loss: 0.1171 - val_state_output_loss: 0.1467 - val_slot_output_sparse_categorical_accuracy: 0.9929 - val_type_output_sparse_categorical_accuracy: 0.9844 - val_state_output_sparse_categorical_accuracy: 0.9609\n",
            "Epoch 50/100\n",
            "53/53 [==============================] - 99s 2s/step - loss: 0.0247 - slot_output_loss: 0.0188 - type_output_loss: 0.0136 - state_output_loss: 0.0099 - slot_output_sparse_categorical_accuracy: 0.9945 - type_output_sparse_categorical_accuracy: 0.9965 - state_output_sparse_categorical_accuracy: 0.9976 - val_loss: 0.0992 - val_slot_output_loss: 0.0237 - val_type_output_loss: 0.0636 - val_state_output_loss: 0.2382 - val_slot_output_sparse_categorical_accuracy: 0.9928 - val_type_output_sparse_categorical_accuracy: 0.9922 - val_state_output_sparse_categorical_accuracy: 0.9531\n",
            "Epoch 51/100\n",
            "53/53 [==============================] - 99s 2s/step - loss: 0.0258 - slot_output_loss: 0.0188 - type_output_loss: 0.0110 - state_output_loss: 0.0174 - slot_output_sparse_categorical_accuracy: 0.9944 - type_output_sparse_categorical_accuracy: 0.9973 - state_output_sparse_categorical_accuracy: 0.9956 - val_loss: 0.0759 - val_slot_output_loss: 0.0254 - val_type_output_loss: 0.0756 - val_state_output_loss: 0.1265 - val_slot_output_sparse_categorical_accuracy: 0.9921 - val_type_output_sparse_categorical_accuracy: 0.9844 - val_state_output_sparse_categorical_accuracy: 0.9688\n",
            "Epoch 52/100\n",
            "53/53 [==============================] - 98s 2s/step - loss: 0.0228 - slot_output_loss: 0.0183 - type_output_loss: 0.0105 - state_output_loss: 0.0074 - slot_output_sparse_categorical_accuracy: 0.9947 - type_output_sparse_categorical_accuracy: 0.9971 - state_output_sparse_categorical_accuracy: 0.9968 - val_loss: 0.1169 - val_slot_output_loss: 0.0284 - val_type_output_loss: 0.1584 - val_state_output_loss: 0.1956 - val_slot_output_sparse_categorical_accuracy: 0.9923 - val_type_output_sparse_categorical_accuracy: 0.9844 - val_state_output_sparse_categorical_accuracy: 0.9609\n",
            "Epoch 53/100\n",
            "53/53 [==============================] - 98s 2s/step - loss: 0.0228 - slot_output_loss: 0.0175 - type_output_loss: 0.0117 - state_output_loss: 0.0094 - slot_output_sparse_categorical_accuracy: 0.9949 - type_output_sparse_categorical_accuracy: 0.9973 - state_output_sparse_categorical_accuracy: 0.9965 - val_loss: 0.0786 - val_slot_output_loss: 0.0253 - val_type_output_loss: 0.0292 - val_state_output_loss: 0.1840 - val_slot_output_sparse_categorical_accuracy: 0.9924 - val_type_output_sparse_categorical_accuracy: 0.9922 - val_state_output_sparse_categorical_accuracy: 0.9609\n",
            "Epoch 54/100\n",
            "53/53 [==============================] - 99s 2s/step - loss: 0.0243 - slot_output_loss: 0.0174 - type_output_loss: 0.0123 - state_output_loss: 0.0156 - slot_output_sparse_categorical_accuracy: 0.9949 - type_output_sparse_categorical_accuracy: 0.9953 - state_output_sparse_categorical_accuracy: 0.9962 - val_loss: 0.0868 - val_slot_output_loss: 0.0281 - val_type_output_loss: 0.1093 - val_state_output_loss: 0.1255 - val_slot_output_sparse_categorical_accuracy: 0.9923 - val_type_output_sparse_categorical_accuracy: 0.9844 - val_state_output_sparse_categorical_accuracy: 0.9766\n",
            "Epoch 55/100\n",
            "53/53 [==============================] - 98s 2s/step - loss: 0.0217 - slot_output_loss: 0.0164 - type_output_loss: 0.0127 - state_output_loss: 0.0084 - slot_output_sparse_categorical_accuracy: 0.9952 - type_output_sparse_categorical_accuracy: 0.9962 - state_output_sparse_categorical_accuracy: 0.9968 - val_loss: 0.0688 - val_slot_output_loss: 0.0237 - val_type_output_loss: 0.0518 - val_state_output_loss: 0.1286 - val_slot_output_sparse_categorical_accuracy: 0.9936 - val_type_output_sparse_categorical_accuracy: 0.9844 - val_state_output_sparse_categorical_accuracy: 0.9766\n",
            "Epoch 56/100\n",
            "53/53 [==============================] - 98s 2s/step - loss: 0.0219 - slot_output_loss: 0.0174 - type_output_loss: 0.0109 - state_output_loss: 0.0071 - slot_output_sparse_categorical_accuracy: 0.9949 - type_output_sparse_categorical_accuracy: 0.9965 - state_output_sparse_categorical_accuracy: 0.9965 - val_loss: 0.0910 - val_slot_output_loss: 0.0268 - val_type_output_loss: 0.1043 - val_state_output_loss: 0.1526 - val_slot_output_sparse_categorical_accuracy: 0.9925 - val_type_output_sparse_categorical_accuracy: 0.9844 - val_state_output_sparse_categorical_accuracy: 0.9688\n",
            "Epoch 57/100\n",
            "53/53 [==============================] - 98s 2s/step - loss: 0.0218 - slot_output_loss: 0.0173 - type_output_loss: 0.0122 - state_output_loss: 0.0061 - slot_output_sparse_categorical_accuracy: 0.9950 - type_output_sparse_categorical_accuracy: 0.9965 - state_output_sparse_categorical_accuracy: 0.9973 - val_loss: 0.0855 - val_slot_output_loss: 0.0257 - val_type_output_loss: 0.1329 - val_state_output_loss: 0.1066 - val_slot_output_sparse_categorical_accuracy: 0.9936 - val_type_output_sparse_categorical_accuracy: 0.9844 - val_state_output_sparse_categorical_accuracy: 0.9766\n",
            "Epoch 58/100\n",
            "53/53 [==============================] - 99s 2s/step - loss: 0.0208 - slot_output_loss: 0.0164 - type_output_loss: 0.0094 - state_output_loss: 0.0081 - slot_output_sparse_categorical_accuracy: 0.9952 - type_output_sparse_categorical_accuracy: 0.9973 - state_output_sparse_categorical_accuracy: 0.9976 - val_loss: 0.0516 - val_slot_output_loss: 0.0207 - val_type_output_loss: 0.0015 - val_state_output_loss: 0.1221 - val_slot_output_sparse_categorical_accuracy: 0.9946 - val_type_output_sparse_categorical_accuracy: 1.0000 - val_state_output_sparse_categorical_accuracy: 0.9844\n",
            "Epoch 59/100\n",
            "53/53 [==============================] - 98s 2s/step - loss: 0.0195 - slot_output_loss: 0.0157 - type_output_loss: 0.0047 - state_output_loss: 0.0108 - slot_output_sparse_categorical_accuracy: 0.9954 - type_output_sparse_categorical_accuracy: 0.9991 - state_output_sparse_categorical_accuracy: 0.9956 - val_loss: 0.0567 - val_slot_output_loss: 0.0186 - val_type_output_loss: 0.1007 - val_state_output_loss: 0.0515 - val_slot_output_sparse_categorical_accuracy: 0.9946 - val_type_output_sparse_categorical_accuracy: 0.9766 - val_state_output_sparse_categorical_accuracy: 0.9844\n",
            "Epoch 60/100\n",
            "53/53 [==============================] - 99s 2s/step - loss: 0.0192 - slot_output_loss: 0.0160 - type_output_loss: 0.0029 - state_output_loss: 0.0099 - slot_output_sparse_categorical_accuracy: 0.9953 - type_output_sparse_categorical_accuracy: 0.9994 - state_output_sparse_categorical_accuracy: 0.9956 - val_loss: 0.1086 - val_slot_output_loss: 0.0269 - val_type_output_loss: 0.1119 - val_state_output_loss: 0.2150 - val_slot_output_sparse_categorical_accuracy: 0.9928 - val_type_output_sparse_categorical_accuracy: 0.9844 - val_state_output_sparse_categorical_accuracy: 0.9688\n",
            "Epoch 61/100\n",
            "53/53 [==============================] - 98s 2s/step - loss: 0.0184 - slot_output_loss: 0.0154 - type_output_loss: 0.0049 - state_output_loss: 0.0071 - slot_output_sparse_categorical_accuracy: 0.9956 - type_output_sparse_categorical_accuracy: 0.9991 - state_output_sparse_categorical_accuracy: 0.9971 - val_loss: 0.1119 - val_slot_output_loss: 0.0292 - val_type_output_loss: 0.1797 - val_state_output_loss: 0.1515 - val_slot_output_sparse_categorical_accuracy: 0.9919 - val_type_output_sparse_categorical_accuracy: 0.9844 - val_state_output_sparse_categorical_accuracy: 0.9766\n",
            "Epoch 62/100\n",
            "53/53 [==============================] - 99s 2s/step - loss: 0.0174 - slot_output_loss: 0.0150 - type_output_loss: 0.0060 - state_output_loss: 0.0036 - slot_output_sparse_categorical_accuracy: 0.9956 - type_output_sparse_categorical_accuracy: 0.9985 - state_output_sparse_categorical_accuracy: 0.9979 - val_loss: 0.0558 - val_slot_output_loss: 0.0214 - val_type_output_loss: 0.0795 - val_state_output_loss: 0.0584 - val_slot_output_sparse_categorical_accuracy: 0.9942 - val_type_output_sparse_categorical_accuracy: 0.9922 - val_state_output_sparse_categorical_accuracy: 0.9922\n",
            "Epoch 63/100\n",
            "53/53 [==============================] - 98s 2s/step - loss: 0.0188 - slot_output_loss: 0.0152 - type_output_loss: 0.0080 - state_output_loss: 0.0065 - slot_output_sparse_categorical_accuracy: 0.9956 - type_output_sparse_categorical_accuracy: 0.9979 - state_output_sparse_categorical_accuracy: 0.9973 - val_loss: 0.0940 - val_slot_output_loss: 0.0234 - val_type_output_loss: 0.1669 - val_state_output_loss: 0.1153 - val_slot_output_sparse_categorical_accuracy: 0.9934 - val_type_output_sparse_categorical_accuracy: 0.9844 - val_state_output_sparse_categorical_accuracy: 0.9844\n",
            "Epoch 64/100\n",
            "53/53 [==============================] - 99s 2s/step - loss: 0.0223 - slot_output_loss: 0.0152 - type_output_loss: 0.0041 - state_output_loss: 0.0244 - slot_output_sparse_categorical_accuracy: 0.9956 - type_output_sparse_categorical_accuracy: 0.9985 - state_output_sparse_categorical_accuracy: 0.9935 - val_loss: 0.0584 - val_slot_output_loss: 0.0288 - val_type_output_loss: 0.0399 - val_state_output_loss: 0.0785 - val_slot_output_sparse_categorical_accuracy: 0.9914 - val_type_output_sparse_categorical_accuracy: 0.9922 - val_state_output_sparse_categorical_accuracy: 0.9688\n",
            "Epoch 65/100\n",
            "53/53 [==============================] - 98s 2s/step - loss: 0.0267 - slot_output_loss: 0.0169 - type_output_loss: 0.0170 - state_output_loss: 0.0222 - slot_output_sparse_categorical_accuracy: 0.9950 - type_output_sparse_categorical_accuracy: 0.9962 - state_output_sparse_categorical_accuracy: 0.9935 - val_loss: 0.0601 - val_slot_output_loss: 0.0241 - val_type_output_loss: 0.0697 - val_state_output_loss: 0.0745 - val_slot_output_sparse_categorical_accuracy: 0.9923 - val_type_output_sparse_categorical_accuracy: 0.9844 - val_state_output_sparse_categorical_accuracy: 0.9844\n",
            "Epoch 66/100\n",
            "53/53 [==============================] - 99s 2s/step - loss: 0.0197 - slot_output_loss: 0.0156 - type_output_loss: 0.0076 - state_output_loss: 0.0085 - slot_output_sparse_categorical_accuracy: 0.9955 - type_output_sparse_categorical_accuracy: 0.9976 - state_output_sparse_categorical_accuracy: 0.9959 - val_loss: 0.0717 - val_slot_output_loss: 0.0189 - val_type_output_loss: 0.0561 - val_state_output_loss: 0.1549 - val_slot_output_sparse_categorical_accuracy: 0.9942 - val_type_output_sparse_categorical_accuracy: 0.9922 - val_state_output_sparse_categorical_accuracy: 0.9688\n",
            "Epoch 67/100\n",
            "53/53 [==============================] - 98s 2s/step - loss: 0.0197 - slot_output_loss: 0.0151 - type_output_loss: 0.0096 - state_output_loss: 0.0090 - slot_output_sparse_categorical_accuracy: 0.9956 - type_output_sparse_categorical_accuracy: 0.9973 - state_output_sparse_categorical_accuracy: 0.9976 - val_loss: 0.0662 - val_slot_output_loss: 0.0207 - val_type_output_loss: 0.0754 - val_state_output_loss: 0.1067 - val_slot_output_sparse_categorical_accuracy: 0.9943 - val_type_output_sparse_categorical_accuracy: 0.9766 - val_state_output_sparse_categorical_accuracy: 0.9766\n",
            "Epoch 68/100\n",
            "53/53 [==============================] - 99s 2s/step - loss: 0.0190 - slot_output_loss: 0.0148 - type_output_loss: 0.0065 - state_output_loss: 0.0104 - slot_output_sparse_categorical_accuracy: 0.9956 - type_output_sparse_categorical_accuracy: 0.9982 - state_output_sparse_categorical_accuracy: 0.9959 - val_loss: 0.0561 - val_slot_output_loss: 0.0232 - val_type_output_loss: 0.0579 - val_state_output_loss: 0.0737 - val_slot_output_sparse_categorical_accuracy: 0.9933 - val_type_output_sparse_categorical_accuracy: 0.9844 - val_state_output_sparse_categorical_accuracy: 0.9922\n",
            "Epoch 69/100\n",
            "53/53 [==============================] - 99s 2s/step - loss: 0.0188 - slot_output_loss: 0.0142 - type_output_loss: 0.0086 - state_output_loss: 0.0096 - slot_output_sparse_categorical_accuracy: 0.9960 - type_output_sparse_categorical_accuracy: 0.9976 - state_output_sparse_categorical_accuracy: 0.9968 - val_loss: 0.0520 - val_slot_output_loss: 0.0181 - val_type_output_loss: 0.0554 - val_state_output_loss: 0.0804 - val_slot_output_sparse_categorical_accuracy: 0.9942 - val_type_output_sparse_categorical_accuracy: 0.9844 - val_state_output_sparse_categorical_accuracy: 0.9844\n",
            "Epoch 70/100\n",
            "53/53 [==============================] - 99s 2s/step - loss: 0.0207 - slot_output_loss: 0.0144 - type_output_loss: 0.0154 - state_output_loss: 0.0096 - slot_output_sparse_categorical_accuracy: 0.9957 - type_output_sparse_categorical_accuracy: 0.9953 - state_output_sparse_categorical_accuracy: 0.9971 - val_loss: 0.0430 - val_slot_output_loss: 0.0238 - val_type_output_loss: 0.0037 - val_state_output_loss: 0.0732 - val_slot_output_sparse_categorical_accuracy: 0.9932 - val_type_output_sparse_categorical_accuracy: 1.0000 - val_state_output_sparse_categorical_accuracy: 0.9922\n",
            "Epoch 71/100\n",
            "53/53 [==============================] - 99s 2s/step - loss: 0.0179 - slot_output_loss: 0.0142 - type_output_loss: 0.0109 - state_output_loss: 0.0038 - slot_output_sparse_categorical_accuracy: 0.9959 - type_output_sparse_categorical_accuracy: 0.9973 - state_output_sparse_categorical_accuracy: 0.9985 - val_loss: 0.0915 - val_slot_output_loss: 0.0241 - val_type_output_loss: 0.0609 - val_state_output_loss: 0.2085 - val_slot_output_sparse_categorical_accuracy: 0.9927 - val_type_output_sparse_categorical_accuracy: 0.9844 - val_state_output_sparse_categorical_accuracy: 0.9609\n",
            "Epoch 72/100\n",
            "53/53 [==============================] - 99s 2s/step - loss: 0.0186 - slot_output_loss: 0.0146 - type_output_loss: 0.0070 - state_output_loss: 0.0087 - slot_output_sparse_categorical_accuracy: 0.9958 - type_output_sparse_categorical_accuracy: 0.9976 - state_output_sparse_categorical_accuracy: 0.9971 - val_loss: 0.0386 - val_slot_output_loss: 0.0215 - val_type_output_loss: 0.0011 - val_state_output_loss: 0.0672 - val_slot_output_sparse_categorical_accuracy: 0.9940 - val_type_output_sparse_categorical_accuracy: 1.0000 - val_state_output_sparse_categorical_accuracy: 0.9922\n",
            "Epoch 73/100\n",
            "53/53 [==============================] - 98s 2s/step - loss: 0.0166 - slot_output_loss: 0.0144 - type_output_loss: 0.0026 - state_output_loss: 0.0062 - slot_output_sparse_categorical_accuracy: 0.9958 - type_output_sparse_categorical_accuracy: 0.9997 - state_output_sparse_categorical_accuracy: 0.9973 - val_loss: 0.0794 - val_slot_output_loss: 0.0185 - val_type_output_loss: 0.1149 - val_state_output_loss: 0.1287 - val_slot_output_sparse_categorical_accuracy: 0.9945 - val_type_output_sparse_categorical_accuracy: 0.9844 - val_state_output_sparse_categorical_accuracy: 0.9688\n",
            "Epoch 74/100\n",
            "53/53 [==============================] - 98s 2s/step - loss: 0.0168 - slot_output_loss: 0.0135 - type_output_loss: 0.0044 - state_output_loss: 0.0089 - slot_output_sparse_categorical_accuracy: 0.9961 - type_output_sparse_categorical_accuracy: 0.9991 - state_output_sparse_categorical_accuracy: 0.9979 - val_loss: 0.0566 - val_slot_output_loss: 0.0195 - val_type_output_loss: 0.0765 - val_state_output_loss: 0.0718 - val_slot_output_sparse_categorical_accuracy: 0.9942 - val_type_output_sparse_categorical_accuracy: 0.9922 - val_state_output_sparse_categorical_accuracy: 0.9844\n",
            "Epoch 75/100\n",
            "53/53 [==============================] - 98s 2s/step - loss: 0.0149 - slot_output_loss: 0.0133 - type_output_loss: 0.0027 - state_output_loss: 0.0036 - slot_output_sparse_categorical_accuracy: 0.9962 - type_output_sparse_categorical_accuracy: 0.9994 - state_output_sparse_categorical_accuracy: 0.9982 - val_loss: 0.1181 - val_slot_output_loss: 0.0233 - val_type_output_loss: 0.1513 - val_state_output_loss: 0.2281 - val_slot_output_sparse_categorical_accuracy: 0.9943 - val_type_output_sparse_categorical_accuracy: 0.9844 - val_state_output_sparse_categorical_accuracy: 0.9688\n",
            "Epoch 76/100\n",
            "53/53 [==============================] - 98s 2s/step - loss: 0.0163 - slot_output_loss: 0.0132 - type_output_loss: 0.0050 - state_output_loss: 0.0073 - slot_output_sparse_categorical_accuracy: 0.9962 - type_output_sparse_categorical_accuracy: 0.9991 - state_output_sparse_categorical_accuracy: 0.9982 - val_loss: 0.0703 - val_slot_output_loss: 0.0218 - val_type_output_loss: 0.1086 - val_state_output_loss: 0.0853 - val_slot_output_sparse_categorical_accuracy: 0.9941 - val_type_output_sparse_categorical_accuracy: 0.9844 - val_state_output_sparse_categorical_accuracy: 0.9844\n",
            "Epoch 77/100\n",
            "53/53 [==============================] - 98s 2s/step - loss: 0.0149 - slot_output_loss: 0.0126 - type_output_loss: 0.0044 - state_output_loss: 0.0047 - slot_output_sparse_categorical_accuracy: 0.9962 - type_output_sparse_categorical_accuracy: 0.9991 - state_output_sparse_categorical_accuracy: 0.9979 - val_loss: 0.0690 - val_slot_output_loss: 0.0238 - val_type_output_loss: 0.1189 - val_state_output_loss: 0.0621 - val_slot_output_sparse_categorical_accuracy: 0.9937 - val_type_output_sparse_categorical_accuracy: 0.9844 - val_state_output_sparse_categorical_accuracy: 0.9766\n",
            "Epoch 78/100\n",
            "53/53 [==============================] - 98s 2s/step - loss: 0.0176 - slot_output_loss: 0.0127 - type_output_loss: 0.0082 - state_output_loss: 0.0114 - slot_output_sparse_categorical_accuracy: 0.9963 - type_output_sparse_categorical_accuracy: 0.9979 - state_output_sparse_categorical_accuracy: 0.9956 - val_loss: 0.0864 - val_slot_output_loss: 0.0220 - val_type_output_loss: 0.0714 - val_state_output_loss: 0.1859 - val_slot_output_sparse_categorical_accuracy: 0.9939 - val_type_output_sparse_categorical_accuracy: 0.9922 - val_state_output_sparse_categorical_accuracy: 0.9766\n",
            "Epoch 79/100\n",
            "53/53 [==============================] - 98s 2s/step - loss: 0.0153 - slot_output_loss: 0.0124 - type_output_loss: 0.0046 - state_output_loss: 0.0072 - slot_output_sparse_categorical_accuracy: 0.9964 - type_output_sparse_categorical_accuracy: 0.9991 - state_output_sparse_categorical_accuracy: 0.9968 - val_loss: 0.0737 - val_slot_output_loss: 0.0231 - val_type_output_loss: 0.0230 - val_state_output_loss: 0.1795 - val_slot_output_sparse_categorical_accuracy: 0.9944 - val_type_output_sparse_categorical_accuracy: 0.9922 - val_state_output_sparse_categorical_accuracy: 0.9766\n",
            "Epoch 80/100\n",
            "53/53 [==============================] - 99s 2s/step - loss: 0.0159 - slot_output_loss: 0.0129 - type_output_loss: 0.0047 - state_output_loss: 0.0075 - slot_output_sparse_categorical_accuracy: 0.9963 - type_output_sparse_categorical_accuracy: 0.9994 - state_output_sparse_categorical_accuracy: 0.9976 - val_loss: 0.0661 - val_slot_output_loss: 0.0168 - val_type_output_loss: 0.0792 - val_state_output_loss: 0.1180 - val_slot_output_sparse_categorical_accuracy: 0.9950 - val_type_output_sparse_categorical_accuracy: 0.9922 - val_state_output_sparse_categorical_accuracy: 0.9844\n",
            "Epoch 81/100\n",
            "53/53 [==============================] - 99s 2s/step - loss: 0.0145 - slot_output_loss: 0.0121 - type_output_loss: 0.0030 - state_output_loss: 0.0066 - slot_output_sparse_categorical_accuracy: 0.9965 - type_output_sparse_categorical_accuracy: 0.9994 - state_output_sparse_categorical_accuracy: 0.9979 - val_loss: 0.1466 - val_slot_output_loss: 0.0187 - val_type_output_loss: 0.2337 - val_state_output_loss: 0.2779 - val_slot_output_sparse_categorical_accuracy: 0.9951 - val_type_output_sparse_categorical_accuracy: 0.9766 - val_state_output_sparse_categorical_accuracy: 0.9453\n",
            "Epoch 82/100\n",
            "53/53 [==============================] - 99s 2s/step - loss: 0.0131 - slot_output_loss: 0.0119 - type_output_loss: 0.0029 - state_output_loss: 0.0019 - slot_output_sparse_categorical_accuracy: 0.9966 - type_output_sparse_categorical_accuracy: 0.9994 - state_output_sparse_categorical_accuracy: 0.9997 - val_loss: 0.0978 - val_slot_output_loss: 0.0206 - val_type_output_loss: 0.0899 - val_state_output_loss: 0.2188 - val_slot_output_sparse_categorical_accuracy: 0.9951 - val_type_output_sparse_categorical_accuracy: 0.9922 - val_state_output_sparse_categorical_accuracy: 0.9609\n",
            "Epoch 83/100\n",
            "53/53 [==============================] - 99s 2s/step - loss: 0.0130 - slot_output_loss: 0.0117 - type_output_loss: 0.0026 - state_output_loss: 0.0024 - slot_output_sparse_categorical_accuracy: 0.9967 - type_output_sparse_categorical_accuracy: 0.9994 - state_output_sparse_categorical_accuracy: 0.9988 - val_loss: 0.0870 - val_slot_output_loss: 0.0213 - val_type_output_loss: 0.0711 - val_state_output_loss: 0.1917 - val_slot_output_sparse_categorical_accuracy: 0.9942 - val_type_output_sparse_categorical_accuracy: 0.9922 - val_state_output_sparse_categorical_accuracy: 0.9688\n",
            "Epoch 84/100\n",
            "53/53 [==============================] - 99s 2s/step - loss: 0.0137 - slot_output_loss: 0.0118 - type_output_loss: 0.0033 - state_output_loss: 0.0042 - slot_output_sparse_categorical_accuracy: 0.9965 - type_output_sparse_categorical_accuracy: 0.9991 - state_output_sparse_categorical_accuracy: 0.9988 - val_loss: 0.0691 - val_slot_output_loss: 0.0221 - val_type_output_loss: 9.7962e-04 - val_state_output_loss: 0.1870 - val_slot_output_sparse_categorical_accuracy: 0.9940 - val_type_output_sparse_categorical_accuracy: 1.0000 - val_state_output_sparse_categorical_accuracy: 0.9766\n",
            "Epoch 85/100\n",
            "53/53 [==============================] - 99s 2s/step - loss: 0.0130 - slot_output_loss: 0.0113 - type_output_loss: 0.0040 - state_output_loss: 0.0027 - slot_output_sparse_categorical_accuracy: 0.9967 - type_output_sparse_categorical_accuracy: 0.9988 - state_output_sparse_categorical_accuracy: 0.9985 - val_loss: 0.0670 - val_slot_output_loss: 0.0232 - val_type_output_loss: 0.0434 - val_state_output_loss: 0.1319 - val_slot_output_sparse_categorical_accuracy: 0.9936 - val_type_output_sparse_categorical_accuracy: 0.9922 - val_state_output_sparse_categorical_accuracy: 0.9766\n",
            "Epoch 86/100\n",
            "53/53 [==============================] - 98s 2s/step - loss: 0.0134 - slot_output_loss: 0.0114 - type_output_loss: 0.0026 - state_output_loss: 0.0053 - slot_output_sparse_categorical_accuracy: 0.9967 - type_output_sparse_categorical_accuracy: 0.9994 - state_output_sparse_categorical_accuracy: 0.9976 - val_loss: 0.0594 - val_slot_output_loss: 0.0221 - val_type_output_loss: 0.0108 - val_state_output_loss: 0.1386 - val_slot_output_sparse_categorical_accuracy: 0.9938 - val_type_output_sparse_categorical_accuracy: 0.9922 - val_state_output_sparse_categorical_accuracy: 0.9609\n",
            "Epoch 87/100\n",
            "53/53 [==============================] - 98s 2s/step - loss: 0.0132 - slot_output_loss: 0.0113 - type_output_loss: 0.0032 - state_output_loss: 0.0044 - slot_output_sparse_categorical_accuracy: 0.9967 - type_output_sparse_categorical_accuracy: 0.9991 - state_output_sparse_categorical_accuracy: 0.9982 - val_loss: 0.0466 - val_slot_output_loss: 0.0185 - val_type_output_loss: 2.5024e-04 - val_state_output_loss: 0.1120 - val_slot_output_sparse_categorical_accuracy: 0.9949 - val_type_output_sparse_categorical_accuracy: 1.0000 - val_state_output_sparse_categorical_accuracy: 0.9844\n",
            "Epoch 88/100\n",
            "53/53 [==============================] - 99s 2s/step - loss: 0.0133 - slot_output_loss: 0.0110 - type_output_loss: 0.0036 - state_output_loss: 0.0057 - slot_output_sparse_categorical_accuracy: 0.9968 - type_output_sparse_categorical_accuracy: 0.9985 - state_output_sparse_categorical_accuracy: 0.9985 - val_loss: 0.0748 - val_slot_output_loss: 0.0209 - val_type_output_loss: 0.1080 - val_state_output_loss: 0.1074 - val_slot_output_sparse_categorical_accuracy: 0.9945 - val_type_output_sparse_categorical_accuracy: 0.9844 - val_state_output_sparse_categorical_accuracy: 0.9766\n",
            "Epoch 89/100\n",
            "53/53 [==============================] - 99s 2s/step - loss: 0.0124 - slot_output_loss: 0.0110 - type_output_loss: 0.0023 - state_output_loss: 0.0032 - slot_output_sparse_categorical_accuracy: 0.9968 - type_output_sparse_categorical_accuracy: 0.9994 - state_output_sparse_categorical_accuracy: 0.9988 - val_loss: 0.1038 - val_slot_output_loss: 0.0190 - val_type_output_loss: 0.0838 - val_state_output_loss: 0.2552 - val_slot_output_sparse_categorical_accuracy: 0.9946 - val_type_output_sparse_categorical_accuracy: 0.9922 - val_state_output_sparse_categorical_accuracy: 0.9609\n",
            "Epoch 90/100\n",
            "53/53 [==============================] - 99s 2s/step - loss: 0.0146 - slot_output_loss: 0.0110 - type_output_loss: 0.0032 - state_output_loss: 0.0115 - slot_output_sparse_categorical_accuracy: 0.9968 - type_output_sparse_categorical_accuracy: 0.9991 - state_output_sparse_categorical_accuracy: 0.9962 - val_loss: 0.0777 - val_slot_output_loss: 0.0151 - val_type_output_loss: 0.0853 - val_state_output_loss: 0.1648 - val_slot_output_sparse_categorical_accuracy: 0.9962 - val_type_output_sparse_categorical_accuracy: 0.9922 - val_state_output_sparse_categorical_accuracy: 0.9609\n",
            "Epoch 91/100\n",
            "53/53 [==============================] - 98s 2s/step - loss: 0.0147 - slot_output_loss: 0.0113 - type_output_loss: 0.0031 - state_output_loss: 0.0108 - slot_output_sparse_categorical_accuracy: 0.9967 - type_output_sparse_categorical_accuracy: 0.9985 - state_output_sparse_categorical_accuracy: 0.9979 - val_loss: 0.0661 - val_slot_output_loss: 0.0212 - val_type_output_loss: 3.9161e-04 - val_state_output_loss: 0.1792 - val_slot_output_sparse_categorical_accuracy: 0.9936 - val_type_output_sparse_categorical_accuracy: 1.0000 - val_state_output_sparse_categorical_accuracy: 0.9688\n",
            "Epoch 92/100\n",
            "53/53 [==============================] - 99s 2s/step - loss: 0.0134 - slot_output_loss: 0.0110 - type_output_loss: 0.0057 - state_output_loss: 0.0037 - slot_output_sparse_categorical_accuracy: 0.9968 - type_output_sparse_categorical_accuracy: 0.9991 - state_output_sparse_categorical_accuracy: 0.9988 - val_loss: 0.0640 - val_slot_output_loss: 0.0239 - val_type_output_loss: 0.0962 - val_state_output_loss: 0.0643 - val_slot_output_sparse_categorical_accuracy: 0.9936 - val_type_output_sparse_categorical_accuracy: 0.9844 - val_state_output_sparse_categorical_accuracy: 0.9922\n",
            "Epoch 93/100\n",
            "53/53 [==============================] - 99s 2s/step - loss: 0.0125 - slot_output_loss: 0.0106 - type_output_loss: 0.0031 - state_output_loss: 0.0045 - slot_output_sparse_categorical_accuracy: 0.9968 - type_output_sparse_categorical_accuracy: 0.9991 - state_output_sparse_categorical_accuracy: 0.9985 - val_loss: 0.0607 - val_slot_output_loss: 0.0143 - val_type_output_loss: 0.0679 - val_state_output_loss: 0.1174 - val_slot_output_sparse_categorical_accuracy: 0.9959 - val_type_output_sparse_categorical_accuracy: 0.9922 - val_state_output_sparse_categorical_accuracy: 0.9766\n",
            "Epoch 94/100\n",
            "53/53 [==============================] - 102s 2s/step - loss: 0.0138 - slot_output_loss: 0.0106 - type_output_loss: 0.0103 - state_output_loss: 0.0027 - slot_output_sparse_categorical_accuracy: 0.9969 - type_output_sparse_categorical_accuracy: 0.9973 - state_output_sparse_categorical_accuracy: 0.9985 - val_loss: 0.1029 - val_slot_output_loss: 0.0241 - val_type_output_loss: 0.0971 - val_state_output_loss: 0.2183 - val_slot_output_sparse_categorical_accuracy: 0.9940 - val_type_output_sparse_categorical_accuracy: 0.9766 - val_state_output_sparse_categorical_accuracy: 0.9609\n",
            "Epoch 95/100\n",
            "53/53 [==============================] - 99s 2s/step - loss: 0.0120 - slot_output_loss: 0.0105 - type_output_loss: 0.0042 - state_output_loss: 0.0020 - slot_output_sparse_categorical_accuracy: 0.9968 - type_output_sparse_categorical_accuracy: 0.9982 - state_output_sparse_categorical_accuracy: 0.9991 - val_loss: 0.0747 - val_slot_output_loss: 0.0196 - val_type_output_loss: 0.0427 - val_state_output_loss: 0.1777 - val_slot_output_sparse_categorical_accuracy: 0.9946 - val_type_output_sparse_categorical_accuracy: 0.9922 - val_state_output_sparse_categorical_accuracy: 0.9766\n",
            "Epoch 96/100\n",
            "53/53 [==============================] - 100s 2s/step - loss: 0.0144 - slot_output_loss: 0.0102 - type_output_loss: 0.0127 - state_output_loss: 0.0042 - slot_output_sparse_categorical_accuracy: 0.9971 - type_output_sparse_categorical_accuracy: 0.9976 - state_output_sparse_categorical_accuracy: 0.9988 - val_loss: 0.1074 - val_slot_output_loss: 0.0200 - val_type_output_loss: 0.1977 - val_state_output_loss: 0.1519 - val_slot_output_sparse_categorical_accuracy: 0.9950 - val_type_output_sparse_categorical_accuracy: 0.9609 - val_state_output_sparse_categorical_accuracy: 0.9766\n",
            "Epoch 97/100\n",
            "53/53 [==============================] - 99s 2s/step - loss: 0.0195 - slot_output_loss: 0.0109 - type_output_loss: 0.0209 - state_output_loss: 0.0135 - slot_output_sparse_categorical_accuracy: 0.9968 - type_output_sparse_categorical_accuracy: 0.9947 - state_output_sparse_categorical_accuracy: 0.9953 - val_loss: 0.0457 - val_slot_output_loss: 0.0217 - val_type_output_loss: 0.0013 - val_state_output_loss: 0.0948 - val_slot_output_sparse_categorical_accuracy: 0.9942 - val_type_output_sparse_categorical_accuracy: 1.0000 - val_state_output_sparse_categorical_accuracy: 0.9766\n",
            "Epoch 98/100\n",
            "53/53 [==============================] - 99s 2s/step - loss: 0.0128 - slot_output_loss: 0.0107 - type_output_loss: 0.0055 - state_output_loss: 0.0028 - slot_output_sparse_categorical_accuracy: 0.9968 - type_output_sparse_categorical_accuracy: 0.9988 - state_output_sparse_categorical_accuracy: 0.9985 - val_loss: 0.0546 - val_slot_output_loss: 0.0236 - val_type_output_loss: 0.0573 - val_state_output_loss: 0.0664 - val_slot_output_sparse_categorical_accuracy: 0.9932 - val_type_output_sparse_categorical_accuracy: 0.9922 - val_state_output_sparse_categorical_accuracy: 0.9766\n",
            "Epoch 99/100\n",
            "53/53 [==============================] - 99s 2s/step - loss: 0.0143 - slot_output_loss: 0.0105 - type_output_loss: 0.0108 - state_output_loss: 0.0046 - slot_output_sparse_categorical_accuracy: 0.9970 - type_output_sparse_categorical_accuracy: 0.9976 - state_output_sparse_categorical_accuracy: 0.9982 - val_loss: 0.0660 - val_slot_output_loss: 0.0190 - val_type_output_loss: 0.1059 - val_state_output_loss: 0.0822 - val_slot_output_sparse_categorical_accuracy: 0.9944 - val_type_output_sparse_categorical_accuracy: 0.9844 - val_state_output_sparse_categorical_accuracy: 0.9844\n",
            "Epoch 100/100\n",
            "53/53 [==============================] - 99s 2s/step - loss: 0.0123 - slot_output_loss: 0.0103 - type_output_loss: 0.0032 - state_output_loss: 0.0048 - slot_output_sparse_categorical_accuracy: 0.9971 - type_output_sparse_categorical_accuracy: 0.9985 - state_output_sparse_categorical_accuracy: 0.9976 - val_loss: 0.0930 - val_slot_output_loss: 0.0182 - val_type_output_loss: 0.1303 - val_state_output_loss: 0.1688 - val_slot_output_sparse_categorical_accuracy: 0.9948 - val_type_output_sparse_categorical_accuracy: 0.9844 - val_state_output_sparse_categorical_accuracy: 0.9844\n"
          ],
          "name": "stdout"
        }
      ]
    },
    {
      "cell_type": "code",
      "metadata": {
        "id": "dAE-TRhu5x4q",
        "colab": {
          "base_uri": "https://localhost:8080/",
          "height": 851
        },
        "outputId": "d0d624ab-b616-4855-c910-29f10ed63dc7"
      },
      "source": [
        "import matplotlib.pyplot as plt\n",
        "\n",
        "def plot_training_accuracy(history):\n",
        "\n",
        "  acc_s = history.history['slot_output_sparse_categorical_accuracy']\n",
        "  val_acc_s = history.history['val_slot_output_sparse_categorical_accuracy']\n",
        "\n",
        "  acc_t = history.history['type_output_sparse_categorical_accuracy']\n",
        "  val_acc_t = history.history['val_type_output_sparse_categorical_accuracy']\n",
        "\n",
        "  acc_st = history.history['state_output_sparse_categorical_accuracy']\n",
        "  val_acc_st = history.history['val_state_output_sparse_categorical_accuracy']\n",
        "\n",
        "  epochs = range(1, len(acc_s) + 1)\n",
        "\n",
        "  plt.plot(epochs, acc_s, 'b', label='Training accuracy')\n",
        "  plt.plot(epochs, val_acc_s, 'r', label='Validation accuracy')\n",
        "  plt.title('Training and validation accuracy_Slots')\n",
        "  plt.xlabel('Epochs')\n",
        "  plt.ylabel('Accuracy')\n",
        "  plt.legend()\n",
        "  plt.show()\n",
        "\n",
        "  plt.plot(epochs, acc_t, 'b', label='Training accuracy')\n",
        "  plt.plot(epochs, val_acc_t, 'r', label='Validation accuracy')\n",
        "  plt.title('Training and validation accuracy_Type')\n",
        "  plt.xlabel('Epochs')\n",
        "  plt.ylabel('Accuracy')\n",
        "  plt.legend()\n",
        "  plt.show()\n",
        "\n",
        "  plt.plot(epochs, acc_st, 'b', label='Training accuracy')\n",
        "  plt.plot(epochs, val_acc_st, 'r', label='Validation accuracy')\n",
        "  plt.title('Training and validation accuracy_State')\n",
        "  plt.xlabel('Epochs')\n",
        "  plt.ylabel('Accuracy')\n",
        "  plt.legend()\n",
        "  plt.show()\n",
        "  \n",
        "plot_training_accuracy(history)"
      ],
      "execution_count": null,
      "outputs": [
        {
          "output_type": "display_data",
          "data": {
            "image/png": "[encoded data removed]",
            "text/plain": [
              "<Figure size 432x288 with 1 Axes>"
            ]
          },
          "metadata": {
            "tags": [],
            "needs_background": "light"
          }
        },
        {
          "output_type": "display_data",
          "data": {
            "image/png": "[encoded data removed]",
            "text/plain": [
              "<Figure size 432x288 with 1 Axes>"
            ]
          },
          "metadata": {
            "tags": [],
            "needs_background": "light"
          }
        },
        {
          "output_type": "display_data",
          "data": {
            "image/png": "[encoded data removed]",
            "text/plain": [
              "<Figure size 432x288 with 1 Axes>"
            ]
          },
          "metadata": {
            "tags": [],
            "needs_background": "light"
          }
        }
      ]
    },
    {
      "cell_type": "code",
      "metadata": {
        "id": "CjAT1rDv027Q",
        "colab": {
          "base_uri": "https://localhost:8080/",
          "height": 851
        },
        "outputId": "5d263f6f-8fd7-479b-c16b-5001ca44e43e"
      },
      "source": [
        "import matplotlib.pyplot as plt\n",
        "\n",
        "def plot_training_loss(history):\n",
        "\n",
        "  loss_s = history.history['slot_output_loss']\n",
        "  val_loss_s = history.history['val_slot_output_loss']\n",
        "\n",
        "  loss_t = history.history['type_output_loss']\n",
        "  val_loss_t = history.history['val_type_output_loss']\n",
        "\n",
        "  loss_st = history.history['state_output_loss']\n",
        "  val_loss_st = history.history['val_state_output_loss']\n",
        "\n",
        "  epochs = range(1, len(loss_s) + 1)\n",
        "\n",
        "  plt.plot(epochs, loss_s, 'b', label='Training loss')\n",
        "  plt.plot(epochs, val_loss_s, 'r', label='Validation loss')\n",
        "  plt.title('Training and validation loss_Slots')\n",
        "  plt.xlabel('Epochs')\n",
        "  plt.ylabel('Loss')\n",
        "  plt.legend()\n",
        "  plt.show()\n",
        "\n",
        "  plt.plot(epochs, loss_t, 'b', label='Training loss')\n",
        "  plt.plot(epochs, val_loss_t, 'r', label='Validation loss')\n",
        "  plt.title('Training and validation loss_Type')\n",
        "  plt.xlabel('Epochs')\n",
        "  plt.ylabel('Loss')\n",
        "  plt.legend()\n",
        "  plt.show()\n",
        "\n",
        "  plt.plot(epochs, loss_st, 'b', label='Training loss')\n",
        "  plt.plot(epochs, val_loss_st, 'r', label='Validation loss')\n",
        "  plt.title('Training and validation loss_State')\n",
        "  plt.xlabel('Epochs')\n",
        "  plt.ylabel('Loss')\n",
        "  plt.legend()\n",
        "  plt.show()\n",
        "  \n",
        "plot_training_loss(history)"
      ],
      "execution_count": null,
      "outputs": [
        {
          "output_type": "display_data",
          "data": {
            "image/png": "[encoded data removed]",
            "text/plain": [
              "<Figure size 432x288 with 1 Axes>"
            ]
          },
          "metadata": {
            "tags": [],
            "needs_background": "light"
          }
        },
        {
          "output_type": "display_data",
          "data": {
            "image/png": "[encoded data removed]",
            "text/plain": [
              "<Figure size 432x288 with 1 Axes>"
            ]
          },
          "metadata": {
            "tags": [],
            "needs_background": "light"
          }
        },
        {
          "output_type": "display_data",
          "data": {
            "image/png": "[encoded data removed]",
            "text/plain": [
              "<Figure size 432x288 with 1 Axes>"
            ]
          },
          "metadata": {
            "tags": [],
            "needs_background": "light"
          }
        }
      ]
    },
    {
      "cell_type": "markdown",
      "metadata": {
        "id": "XtfpkteiHxsZ"
      },
      "source": [
        "## 7. Guardado de los pesos del modelo y los tokenizers"
      ]
    },
    {
      "cell_type": "code",
      "metadata": {
        "id": "ASyP_FpUICI_"
      },
      "source": [
        "model_name = 'vCPU_s2s_model_' + str(batch_size) + 'bs' + '128ld' + str(epochs) + 'epo' + str(word_emb_dim) + 'word_emb' + str(slot_emb_dim) + 'slot_emb_2021.h5'\n",
        "msw = model.save_weights(model_name)"
      ],
      "execution_count": null,
      "outputs": []
    },
    {
      "cell_type": "code",
      "metadata": {
        "id": "2z94CwcmHb5V"
      },
      "source": [
        "# Save ModelFormat\n",
        "#model_name = 'vCPU_s2s_model_' + str(batch_size) + 'bs' + '128ld' + str(epochs) + 'epo' + str(word_emb_dim) + 'word_emb' + str(slot_emb_dim) + 'slot_emb_2021'\n",
        "#model.save(model_name)"
      ],
      "execution_count": null,
      "outputs": []
    },
    {
      "cell_type": "code",
      "metadata": {
        "id": "S9D_oaje2o0I"
      },
      "source": [
        "with open('/gdrive/My Drive/PEPS/' + model_name, 'wb') as wt: \n",
        "  pickle.dump(msw, wt, protocol=pickle.HIGHEST_PROTOCOL)"
      ],
      "execution_count": null,
      "outputs": []
    },
    {
      "cell_type": "code",
      "metadata": {
        "id": "DiTZPxZwuKGI",
        "colab": {
          "base_uri": "https://localhost:8080/",
          "height": 108
        },
        "outputId": "91253e3a-20cb-4c34-d919-2af63d866b42"
      },
      "source": [
        "'''\n",
        "with open('/gdrive/My Drive/PEPS/word_tokenizer', 'wb') as w_tok:\n",
        "  pickle.dump(word_tokenizer, w_tok, protocol=pickle.HIGHEST_PROTOCOL)\n",
        "\n",
        "with open('/gdrive/My Drive/PEPS/slot_tokenizer', 'wb') as s_tok:\n",
        "  pickle.dump(slot_tokenizer, s_tok, protocol=pickle.HIGHEST_PROTOCOL)\n",
        "\n",
        "with open('/gdrive/My Drive/PEPS/type_tokenizer', 'wb') as t_tok:\n",
        "  pickle.dump(type_tokenizer, t_tok, protocol=pickle.HIGHEST_PROTOCOL)\n",
        "\n",
        "with open('/gdrive/My Drive/PEPS/state_tokenizer', 'wb') as st_tok:\n",
        "  pickle.dump(state_tokenizer, st_tok, protocol=pickle.HIGHEST_PROTOCOL)\n",
        "\n",
        "# drive.flush_and_unmount()\n",
        "# print('All changes made in this colab session should now be visible in Drive.')\n",
        "'''"
      ],
      "execution_count": null,
      "outputs": [
        {
          "output_type": "execute_result",
          "data": {
            "application/vnd.google.colaboratory.intrinsic+json": {
              "type": "string"
            },
            "text/plain": [
              "\"\\nwith open('/gdrive/My Drive/PEPS/word_tokenizer', 'wb') as w_tok:\\n  pickle.dump(word_tokenizer, w_tok, protocol=pickle.HIGHEST_PROTOCOL)\\n\\nwith open('/gdrive/My Drive/PEPS/slot_tokenizer', 'wb') as s_tok:\\n  pickle.dump(slot_tokenizer, s_tok, protocol=pickle.HIGHEST_PROTOCOL)\\n\\nwith open('/gdrive/My Drive/PEPS/type_tokenizer', 'wb') as t_tok:\\n  pickle.dump(type_tokenizer, t_tok, protocol=pickle.HIGHEST_PROTOCOL)\\n\\nwith open('/gdrive/My Drive/PEPS/state_tokenizer', 'wb') as st_tok:\\n  pickle.dump(state_tokenizer, st_tok, protocol=pickle.HIGHEST_PROTOCOL)\\n\\n# drive.flush_and_unmount()\\n# print('All changes made in this colab session should now be visible in Drive.')\\n\""
            ]
          },
          "metadata": {
            "tags": []
          },
          "execution_count": 30
        }
      ]
    },
    {
      "cell_type": "markdown",
      "metadata": {
        "id": "kB9hIYUQsJbw"
      },
      "source": [
        "PENDIENTES:\n",
        "\n",
        "1) Prueba de modelos (cambiar los hiperparámetros)\n",
        "* word embeddings: 128, 150, 200, 256 (250),..., 300, ..., 500\n",
        "* slot embeddings: 6,..., 23 \n",
        "* mantener epocas 20, 30, 50\n",
        "* BATCH SIZE 16, 32, 64\n",
        "* laten dim 128, 256, 200,..., 1024\n",
        "* mantener pesos de pérdidas\n",
        "\n",
        "2) Crear la función de pérdida ponderada\n",
        "\n",
        "3) Entrenamiento final->guardamos pesos"
      ]
    },
    {
      "cell_type": "code",
      "metadata": {
        "colab": {
          "base_uri": "https://localhost:8080/"
        },
        "id": "7icZHsgc9_05",
        "outputId": "0c9291fc-356b-46d2-b0d9-c38153a192df"
      },
      "source": [
        "import re\n",
        "\n",
        "fecha = '3 de abril de 2019'\n",
        "\n",
        "año_actual = re.findall(r'\\s\\d{4}', fecha)\n",
        "\n",
        "print(año_actual)\n",
        "\n",
        "fecha_temp1 = '3 de abril del año en curso'\n",
        "fecha_temp2 = '3 de abril del presente año'\n",
        "\n",
        "replace1 = re.compile(r'( año en curso)|( presente año)')\n",
        "text = re.sub(replace1, año_actual[0], fecha_temp2)\n",
        "\n",
        "print(text)"
      ],
      "execution_count": null,
      "outputs": [
        {
          "output_type": "stream",
          "text": [
            "[' 2019']\n",
            "3 de abril del 2019\n"
          ],
          "name": "stdout"
        }
      ]
    }
  ]
}